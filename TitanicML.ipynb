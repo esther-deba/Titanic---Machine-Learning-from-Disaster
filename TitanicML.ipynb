{
 "cells": [
  {
   "cell_type": "code",
   "execution_count": 1,
   "id": "1d8f35df",
   "metadata": {
    "execution": {
     "iopub.execute_input": "2025-03-17T21:49:08.649301Z",
     "iopub.status.busy": "2025-03-17T21:49:08.648941Z",
     "iopub.status.idle": "2025-03-17T21:49:12.089375Z",
     "shell.execute_reply": "2025-03-17T21:49:12.088052Z"
    },
    "papermill": {
     "duration": 3.450502,
     "end_time": "2025-03-17T21:49:12.091077",
     "exception": false,
     "start_time": "2025-03-17T21:49:08.640575",
     "status": "completed"
    },
    "tags": []
   },
   "outputs": [],
   "source": [
    "import pandas as pd \n",
    "import numpy as np\n",
    "import seaborn as sns \n",
    "import matplotlib.pyplot as plt \n",
    "%matplotlib inline \n",
    "\n",
    "from sklearn.preprocessing import OrdinalEncoder, OneHotEncoder \n",
    "\n",
    "from sklearn.impute import SimpleImputer \n",
    "\n",
    "from sklearn.compose import make_column_transformer\n",
    "from sklearn.pipeline import Pipeline, make_pipeline \n",
    "\n",
    "from sklearn.linear_model import LogisticRegression\n",
    "from sklearn.svm import SVC\n",
    "from sklearn.ensemble import RandomForestClassifier\n",
    "from sklearn.tree import DecisionTreeClassifier\n",
    "from sklearn.neighbors import KNeighborsClassifier\n",
    "from sklearn.naive_bayes import GaussianNB\n",
    "\n",
    "from sklearn.model_selection import cross_val_score, StratifiedKFold, train_test_split, GridSearchCV\n"
   ]
  },
  {
   "cell_type": "code",
   "execution_count": 2,
   "id": "f77bd12b",
   "metadata": {
    "execution": {
     "iopub.execute_input": "2025-03-17T21:49:12.105729Z",
     "iopub.status.busy": "2025-03-17T21:49:12.105298Z",
     "iopub.status.idle": "2025-03-17T21:49:12.128330Z",
     "shell.execute_reply": "2025-03-17T21:49:12.127469Z"
    },
    "papermill": {
     "duration": 0.031924,
     "end_time": "2025-03-17T21:49:12.129946",
     "exception": false,
     "start_time": "2025-03-17T21:49:12.098022",
     "status": "completed"
    },
    "tags": []
   },
   "outputs": [],
   "source": [
    "train_df = pd.read_csv('/kaggle/input/titanic/train.csv')\n",
    "test_df = pd.read_csv('/kaggle/input/titanic/test.csv')"
   ]
  },
  {
   "cell_type": "code",
   "execution_count": 3,
   "id": "a2b0c78c",
   "metadata": {
    "execution": {
     "iopub.execute_input": "2025-03-17T21:49:12.144068Z",
     "iopub.status.busy": "2025-03-17T21:49:12.143771Z",
     "iopub.status.idle": "2025-03-17T21:49:12.168489Z",
     "shell.execute_reply": "2025-03-17T21:49:12.167765Z"
    },
    "papermill": {
     "duration": 0.033104,
     "end_time": "2025-03-17T21:49:12.169764",
     "exception": false,
     "start_time": "2025-03-17T21:49:12.136660",
     "status": "completed"
    },
    "tags": []
   },
   "outputs": [
    {
     "data": {
      "text/html": [
       "<div>\n",
       "<style scoped>\n",
       "    .dataframe tbody tr th:only-of-type {\n",
       "        vertical-align: middle;\n",
       "    }\n",
       "\n",
       "    .dataframe tbody tr th {\n",
       "        vertical-align: top;\n",
       "    }\n",
       "\n",
       "    .dataframe thead th {\n",
       "        text-align: right;\n",
       "    }\n",
       "</style>\n",
       "<table border=\"1\" class=\"dataframe\">\n",
       "  <thead>\n",
       "    <tr style=\"text-align: right;\">\n",
       "      <th></th>\n",
       "      <th>PassengerId</th>\n",
       "      <th>Survived</th>\n",
       "      <th>Pclass</th>\n",
       "      <th>Name</th>\n",
       "      <th>Sex</th>\n",
       "      <th>Age</th>\n",
       "      <th>SibSp</th>\n",
       "      <th>Parch</th>\n",
       "      <th>Ticket</th>\n",
       "      <th>Fare</th>\n",
       "      <th>Cabin</th>\n",
       "      <th>Embarked</th>\n",
       "    </tr>\n",
       "  </thead>\n",
       "  <tbody>\n",
       "    <tr>\n",
       "      <th>0</th>\n",
       "      <td>1</td>\n",
       "      <td>0</td>\n",
       "      <td>3</td>\n",
       "      <td>Braund, Mr. Owen Harris</td>\n",
       "      <td>male</td>\n",
       "      <td>22.0</td>\n",
       "      <td>1</td>\n",
       "      <td>0</td>\n",
       "      <td>A/5 21171</td>\n",
       "      <td>7.2500</td>\n",
       "      <td>NaN</td>\n",
       "      <td>S</td>\n",
       "    </tr>\n",
       "    <tr>\n",
       "      <th>1</th>\n",
       "      <td>2</td>\n",
       "      <td>1</td>\n",
       "      <td>1</td>\n",
       "      <td>Cumings, Mrs. John Bradley (Florence Briggs Th...</td>\n",
       "      <td>female</td>\n",
       "      <td>38.0</td>\n",
       "      <td>1</td>\n",
       "      <td>0</td>\n",
       "      <td>PC 17599</td>\n",
       "      <td>71.2833</td>\n",
       "      <td>C85</td>\n",
       "      <td>C</td>\n",
       "    </tr>\n",
       "    <tr>\n",
       "      <th>2</th>\n",
       "      <td>3</td>\n",
       "      <td>1</td>\n",
       "      <td>3</td>\n",
       "      <td>Heikkinen, Miss. Laina</td>\n",
       "      <td>female</td>\n",
       "      <td>26.0</td>\n",
       "      <td>0</td>\n",
       "      <td>0</td>\n",
       "      <td>STON/O2. 3101282</td>\n",
       "      <td>7.9250</td>\n",
       "      <td>NaN</td>\n",
       "      <td>S</td>\n",
       "    </tr>\n",
       "    <tr>\n",
       "      <th>3</th>\n",
       "      <td>4</td>\n",
       "      <td>1</td>\n",
       "      <td>1</td>\n",
       "      <td>Futrelle, Mrs. Jacques Heath (Lily May Peel)</td>\n",
       "      <td>female</td>\n",
       "      <td>35.0</td>\n",
       "      <td>1</td>\n",
       "      <td>0</td>\n",
       "      <td>113803</td>\n",
       "      <td>53.1000</td>\n",
       "      <td>C123</td>\n",
       "      <td>S</td>\n",
       "    </tr>\n",
       "    <tr>\n",
       "      <th>4</th>\n",
       "      <td>5</td>\n",
       "      <td>0</td>\n",
       "      <td>3</td>\n",
       "      <td>Allen, Mr. William Henry</td>\n",
       "      <td>male</td>\n",
       "      <td>35.0</td>\n",
       "      <td>0</td>\n",
       "      <td>0</td>\n",
       "      <td>373450</td>\n",
       "      <td>8.0500</td>\n",
       "      <td>NaN</td>\n",
       "      <td>S</td>\n",
       "    </tr>\n",
       "  </tbody>\n",
       "</table>\n",
       "</div>"
      ],
      "text/plain": [
       "   PassengerId  Survived  Pclass  \\\n",
       "0            1         0       3   \n",
       "1            2         1       1   \n",
       "2            3         1       3   \n",
       "3            4         1       1   \n",
       "4            5         0       3   \n",
       "\n",
       "                                                Name     Sex   Age  SibSp  \\\n",
       "0                            Braund, Mr. Owen Harris    male  22.0      1   \n",
       "1  Cumings, Mrs. John Bradley (Florence Briggs Th...  female  38.0      1   \n",
       "2                             Heikkinen, Miss. Laina  female  26.0      0   \n",
       "3       Futrelle, Mrs. Jacques Heath (Lily May Peel)  female  35.0      1   \n",
       "4                           Allen, Mr. William Henry    male  35.0      0   \n",
       "\n",
       "   Parch            Ticket     Fare Cabin Embarked  \n",
       "0      0         A/5 21171   7.2500   NaN        S  \n",
       "1      0          PC 17599  71.2833   C85        C  \n",
       "2      0  STON/O2. 3101282   7.9250   NaN        S  \n",
       "3      0            113803  53.1000  C123        S  \n",
       "4      0            373450   8.0500   NaN        S  "
      ]
     },
     "execution_count": 3,
     "metadata": {},
     "output_type": "execute_result"
    }
   ],
   "source": [
    "train_df.head()"
   ]
  },
  {
   "cell_type": "code",
   "execution_count": 4,
   "id": "5f04e1da",
   "metadata": {
    "execution": {
     "iopub.execute_input": "2025-03-17T21:49:12.184058Z",
     "iopub.status.busy": "2025-03-17T21:49:12.183740Z",
     "iopub.status.idle": "2025-03-17T21:49:12.193536Z",
     "shell.execute_reply": "2025-03-17T21:49:12.192777Z"
    },
    "papermill": {
     "duration": 0.018657,
     "end_time": "2025-03-17T21:49:12.195138",
     "exception": false,
     "start_time": "2025-03-17T21:49:12.176481",
     "status": "completed"
    },
    "tags": []
   },
   "outputs": [
    {
     "data": {
      "text/html": [
       "<div>\n",
       "<style scoped>\n",
       "    .dataframe tbody tr th:only-of-type {\n",
       "        vertical-align: middle;\n",
       "    }\n",
       "\n",
       "    .dataframe tbody tr th {\n",
       "        vertical-align: top;\n",
       "    }\n",
       "\n",
       "    .dataframe thead th {\n",
       "        text-align: right;\n",
       "    }\n",
       "</style>\n",
       "<table border=\"1\" class=\"dataframe\">\n",
       "  <thead>\n",
       "    <tr style=\"text-align: right;\">\n",
       "      <th></th>\n",
       "      <th>PassengerId</th>\n",
       "      <th>Pclass</th>\n",
       "      <th>Name</th>\n",
       "      <th>Sex</th>\n",
       "      <th>Age</th>\n",
       "      <th>SibSp</th>\n",
       "      <th>Parch</th>\n",
       "      <th>Ticket</th>\n",
       "      <th>Fare</th>\n",
       "      <th>Cabin</th>\n",
       "      <th>Embarked</th>\n",
       "    </tr>\n",
       "  </thead>\n",
       "  <tbody>\n",
       "    <tr>\n",
       "      <th>0</th>\n",
       "      <td>892</td>\n",
       "      <td>3</td>\n",
       "      <td>Kelly, Mr. James</td>\n",
       "      <td>male</td>\n",
       "      <td>34.5</td>\n",
       "      <td>0</td>\n",
       "      <td>0</td>\n",
       "      <td>330911</td>\n",
       "      <td>7.8292</td>\n",
       "      <td>NaN</td>\n",
       "      <td>Q</td>\n",
       "    </tr>\n",
       "    <tr>\n",
       "      <th>1</th>\n",
       "      <td>893</td>\n",
       "      <td>3</td>\n",
       "      <td>Wilkes, Mrs. James (Ellen Needs)</td>\n",
       "      <td>female</td>\n",
       "      <td>47.0</td>\n",
       "      <td>1</td>\n",
       "      <td>0</td>\n",
       "      <td>363272</td>\n",
       "      <td>7.0000</td>\n",
       "      <td>NaN</td>\n",
       "      <td>S</td>\n",
       "    </tr>\n",
       "    <tr>\n",
       "      <th>2</th>\n",
       "      <td>894</td>\n",
       "      <td>2</td>\n",
       "      <td>Myles, Mr. Thomas Francis</td>\n",
       "      <td>male</td>\n",
       "      <td>62.0</td>\n",
       "      <td>0</td>\n",
       "      <td>0</td>\n",
       "      <td>240276</td>\n",
       "      <td>9.6875</td>\n",
       "      <td>NaN</td>\n",
       "      <td>Q</td>\n",
       "    </tr>\n",
       "    <tr>\n",
       "      <th>3</th>\n",
       "      <td>895</td>\n",
       "      <td>3</td>\n",
       "      <td>Wirz, Mr. Albert</td>\n",
       "      <td>male</td>\n",
       "      <td>27.0</td>\n",
       "      <td>0</td>\n",
       "      <td>0</td>\n",
       "      <td>315154</td>\n",
       "      <td>8.6625</td>\n",
       "      <td>NaN</td>\n",
       "      <td>S</td>\n",
       "    </tr>\n",
       "    <tr>\n",
       "      <th>4</th>\n",
       "      <td>896</td>\n",
       "      <td>3</td>\n",
       "      <td>Hirvonen, Mrs. Alexander (Helga E Lindqvist)</td>\n",
       "      <td>female</td>\n",
       "      <td>22.0</td>\n",
       "      <td>1</td>\n",
       "      <td>1</td>\n",
       "      <td>3101298</td>\n",
       "      <td>12.2875</td>\n",
       "      <td>NaN</td>\n",
       "      <td>S</td>\n",
       "    </tr>\n",
       "  </tbody>\n",
       "</table>\n",
       "</div>"
      ],
      "text/plain": [
       "   PassengerId  Pclass                                          Name     Sex  \\\n",
       "0          892       3                              Kelly, Mr. James    male   \n",
       "1          893       3              Wilkes, Mrs. James (Ellen Needs)  female   \n",
       "2          894       2                     Myles, Mr. Thomas Francis    male   \n",
       "3          895       3                              Wirz, Mr. Albert    male   \n",
       "4          896       3  Hirvonen, Mrs. Alexander (Helga E Lindqvist)  female   \n",
       "\n",
       "    Age  SibSp  Parch   Ticket     Fare Cabin Embarked  \n",
       "0  34.5      0      0   330911   7.8292   NaN        Q  \n",
       "1  47.0      1      0   363272   7.0000   NaN        S  \n",
       "2  62.0      0      0   240276   9.6875   NaN        Q  \n",
       "3  27.0      0      0   315154   8.6625   NaN        S  \n",
       "4  22.0      1      1  3101298  12.2875   NaN        S  "
      ]
     },
     "execution_count": 4,
     "metadata": {},
     "output_type": "execute_result"
    }
   ],
   "source": [
    "test_df.head()"
   ]
  },
  {
   "cell_type": "code",
   "execution_count": 5,
   "id": "eede87ba",
   "metadata": {
    "execution": {
     "iopub.execute_input": "2025-03-17T21:49:12.210170Z",
     "iopub.status.busy": "2025-03-17T21:49:12.209849Z",
     "iopub.status.idle": "2025-03-17T21:49:12.239980Z",
     "shell.execute_reply": "2025-03-17T21:49:12.238766Z"
    },
    "papermill": {
     "duration": 0.039053,
     "end_time": "2025-03-17T21:49:12.241204",
     "exception": false,
     "start_time": "2025-03-17T21:49:12.202151",
     "status": "completed"
    },
    "tags": []
   },
   "outputs": [
    {
     "name": "stdout",
     "output_type": "stream",
     "text": [
      "<class 'pandas.core.frame.DataFrame'>\n",
      "RangeIndex: 891 entries, 0 to 890\n",
      "Data columns (total 12 columns):\n",
      " #   Column       Non-Null Count  Dtype  \n",
      "---  ------       --------------  -----  \n",
      " 0   PassengerId  891 non-null    int64  \n",
      " 1   Survived     891 non-null    int64  \n",
      " 2   Pclass       891 non-null    int64  \n",
      " 3   Name         891 non-null    object \n",
      " 4   Sex          891 non-null    object \n",
      " 5   Age          714 non-null    float64\n",
      " 6   SibSp        891 non-null    int64  \n",
      " 7   Parch        891 non-null    int64  \n",
      " 8   Ticket       891 non-null    object \n",
      " 9   Fare         891 non-null    float64\n",
      " 10  Cabin        204 non-null    object \n",
      " 11  Embarked     889 non-null    object \n",
      "dtypes: float64(2), int64(5), object(5)\n",
      "memory usage: 83.7+ KB\n"
     ]
    }
   ],
   "source": [
    "train_df.info()"
   ]
  },
  {
   "cell_type": "code",
   "execution_count": 6,
   "id": "99919eec",
   "metadata": {
    "execution": {
     "iopub.execute_input": "2025-03-17T21:49:12.255746Z",
     "iopub.status.busy": "2025-03-17T21:49:12.255439Z",
     "iopub.status.idle": "2025-03-17T21:49:12.279965Z",
     "shell.execute_reply": "2025-03-17T21:49:12.278697Z"
    },
    "papermill": {
     "duration": 0.033502,
     "end_time": "2025-03-17T21:49:12.281537",
     "exception": false,
     "start_time": "2025-03-17T21:49:12.248035",
     "status": "completed"
    },
    "tags": []
   },
   "outputs": [
    {
     "data": {
      "text/html": [
       "<div>\n",
       "<style scoped>\n",
       "    .dataframe tbody tr th:only-of-type {\n",
       "        vertical-align: middle;\n",
       "    }\n",
       "\n",
       "    .dataframe tbody tr th {\n",
       "        vertical-align: top;\n",
       "    }\n",
       "\n",
       "    .dataframe thead th {\n",
       "        text-align: right;\n",
       "    }\n",
       "</style>\n",
       "<table border=\"1\" class=\"dataframe\">\n",
       "  <thead>\n",
       "    <tr style=\"text-align: right;\">\n",
       "      <th></th>\n",
       "      <th>PassengerId</th>\n",
       "      <th>Survived</th>\n",
       "      <th>Pclass</th>\n",
       "      <th>Age</th>\n",
       "      <th>SibSp</th>\n",
       "      <th>Parch</th>\n",
       "      <th>Fare</th>\n",
       "    </tr>\n",
       "  </thead>\n",
       "  <tbody>\n",
       "    <tr>\n",
       "      <th>count</th>\n",
       "      <td>891.000000</td>\n",
       "      <td>891.000000</td>\n",
       "      <td>891.000000</td>\n",
       "      <td>714.000000</td>\n",
       "      <td>891.000000</td>\n",
       "      <td>891.000000</td>\n",
       "      <td>891.000000</td>\n",
       "    </tr>\n",
       "    <tr>\n",
       "      <th>mean</th>\n",
       "      <td>446.000000</td>\n",
       "      <td>0.383838</td>\n",
       "      <td>2.308642</td>\n",
       "      <td>29.699118</td>\n",
       "      <td>0.523008</td>\n",
       "      <td>0.381594</td>\n",
       "      <td>32.204208</td>\n",
       "    </tr>\n",
       "    <tr>\n",
       "      <th>std</th>\n",
       "      <td>257.353842</td>\n",
       "      <td>0.486592</td>\n",
       "      <td>0.836071</td>\n",
       "      <td>14.526497</td>\n",
       "      <td>1.102743</td>\n",
       "      <td>0.806057</td>\n",
       "      <td>49.693429</td>\n",
       "    </tr>\n",
       "    <tr>\n",
       "      <th>min</th>\n",
       "      <td>1.000000</td>\n",
       "      <td>0.000000</td>\n",
       "      <td>1.000000</td>\n",
       "      <td>0.420000</td>\n",
       "      <td>0.000000</td>\n",
       "      <td>0.000000</td>\n",
       "      <td>0.000000</td>\n",
       "    </tr>\n",
       "    <tr>\n",
       "      <th>25%</th>\n",
       "      <td>223.500000</td>\n",
       "      <td>0.000000</td>\n",
       "      <td>2.000000</td>\n",
       "      <td>20.125000</td>\n",
       "      <td>0.000000</td>\n",
       "      <td>0.000000</td>\n",
       "      <td>7.910400</td>\n",
       "    </tr>\n",
       "    <tr>\n",
       "      <th>50%</th>\n",
       "      <td>446.000000</td>\n",
       "      <td>0.000000</td>\n",
       "      <td>3.000000</td>\n",
       "      <td>28.000000</td>\n",
       "      <td>0.000000</td>\n",
       "      <td>0.000000</td>\n",
       "      <td>14.454200</td>\n",
       "    </tr>\n",
       "    <tr>\n",
       "      <th>75%</th>\n",
       "      <td>668.500000</td>\n",
       "      <td>1.000000</td>\n",
       "      <td>3.000000</td>\n",
       "      <td>38.000000</td>\n",
       "      <td>1.000000</td>\n",
       "      <td>0.000000</td>\n",
       "      <td>31.000000</td>\n",
       "    </tr>\n",
       "    <tr>\n",
       "      <th>max</th>\n",
       "      <td>891.000000</td>\n",
       "      <td>1.000000</td>\n",
       "      <td>3.000000</td>\n",
       "      <td>80.000000</td>\n",
       "      <td>8.000000</td>\n",
       "      <td>6.000000</td>\n",
       "      <td>512.329200</td>\n",
       "    </tr>\n",
       "  </tbody>\n",
       "</table>\n",
       "</div>"
      ],
      "text/plain": [
       "       PassengerId    Survived      Pclass         Age       SibSp  \\\n",
       "count   891.000000  891.000000  891.000000  714.000000  891.000000   \n",
       "mean    446.000000    0.383838    2.308642   29.699118    0.523008   \n",
       "std     257.353842    0.486592    0.836071   14.526497    1.102743   \n",
       "min       1.000000    0.000000    1.000000    0.420000    0.000000   \n",
       "25%     223.500000    0.000000    2.000000   20.125000    0.000000   \n",
       "50%     446.000000    0.000000    3.000000   28.000000    0.000000   \n",
       "75%     668.500000    1.000000    3.000000   38.000000    1.000000   \n",
       "max     891.000000    1.000000    3.000000   80.000000    8.000000   \n",
       "\n",
       "            Parch        Fare  \n",
       "count  891.000000  891.000000  \n",
       "mean     0.381594   32.204208  \n",
       "std      0.806057   49.693429  \n",
       "min      0.000000    0.000000  \n",
       "25%      0.000000    7.910400  \n",
       "50%      0.000000   14.454200  \n",
       "75%      0.000000   31.000000  \n",
       "max      6.000000  512.329200  "
      ]
     },
     "execution_count": 6,
     "metadata": {},
     "output_type": "execute_result"
    }
   ],
   "source": [
    "train_df.describe()"
   ]
  },
  {
   "cell_type": "code",
   "execution_count": 7,
   "id": "c0899702",
   "metadata": {
    "execution": {
     "iopub.execute_input": "2025-03-17T21:49:12.298798Z",
     "iopub.status.busy": "2025-03-17T21:49:12.298477Z",
     "iopub.status.idle": "2025-03-17T21:49:12.303652Z",
     "shell.execute_reply": "2025-03-17T21:49:12.302314Z"
    },
    "papermill": {
     "duration": 0.015906,
     "end_time": "2025-03-17T21:49:12.305355",
     "exception": false,
     "start_time": "2025-03-17T21:49:12.289449",
     "status": "completed"
    },
    "tags": []
   },
   "outputs": [
    {
     "data": {
      "text/plain": [
       "(891, 12)"
      ]
     },
     "execution_count": 7,
     "metadata": {},
     "output_type": "execute_result"
    }
   ],
   "source": [
    "train_df.shape"
   ]
  },
  {
   "cell_type": "code",
   "execution_count": 8,
   "id": "a73e5670",
   "metadata": {
    "execution": {
     "iopub.execute_input": "2025-03-17T21:49:12.321040Z",
     "iopub.status.busy": "2025-03-17T21:49:12.320727Z",
     "iopub.status.idle": "2025-03-17T21:49:12.326445Z",
     "shell.execute_reply": "2025-03-17T21:49:12.325250Z"
    },
    "papermill": {
     "duration": 0.014905,
     "end_time": "2025-03-17T21:49:12.327667",
     "exception": false,
     "start_time": "2025-03-17T21:49:12.312762",
     "status": "completed"
    },
    "tags": []
   },
   "outputs": [
    {
     "data": {
      "text/plain": [
       "(418, 11)"
      ]
     },
     "execution_count": 8,
     "metadata": {},
     "output_type": "execute_result"
    }
   ],
   "source": [
    "test_df.shape"
   ]
  },
  {
   "cell_type": "code",
   "execution_count": 9,
   "id": "53886ef5",
   "metadata": {
    "execution": {
     "iopub.execute_input": "2025-03-17T21:49:12.342853Z",
     "iopub.status.busy": "2025-03-17T21:49:12.342576Z",
     "iopub.status.idle": "2025-03-17T21:49:12.358477Z",
     "shell.execute_reply": "2025-03-17T21:49:12.357400Z"
    },
    "papermill": {
     "duration": 0.025291,
     "end_time": "2025-03-17T21:49:12.360230",
     "exception": false,
     "start_time": "2025-03-17T21:49:12.334939",
     "status": "completed"
    },
    "tags": []
   },
   "outputs": [
    {
     "data": {
      "text/html": [
       "<div>\n",
       "<style scoped>\n",
       "    .dataframe tbody tr th:only-of-type {\n",
       "        vertical-align: middle;\n",
       "    }\n",
       "\n",
       "    .dataframe tbody tr th {\n",
       "        vertical-align: top;\n",
       "    }\n",
       "\n",
       "    .dataframe thead th {\n",
       "        text-align: right;\n",
       "    }\n",
       "</style>\n",
       "<table border=\"1\" class=\"dataframe\">\n",
       "  <thead>\n",
       "    <tr style=\"text-align: right;\">\n",
       "      <th></th>\n",
       "      <th>Name</th>\n",
       "      <th>Sex</th>\n",
       "      <th>Ticket</th>\n",
       "      <th>Cabin</th>\n",
       "      <th>Embarked</th>\n",
       "    </tr>\n",
       "  </thead>\n",
       "  <tbody>\n",
       "    <tr>\n",
       "      <th>count</th>\n",
       "      <td>891</td>\n",
       "      <td>891</td>\n",
       "      <td>891</td>\n",
       "      <td>204</td>\n",
       "      <td>889</td>\n",
       "    </tr>\n",
       "    <tr>\n",
       "      <th>unique</th>\n",
       "      <td>891</td>\n",
       "      <td>2</td>\n",
       "      <td>681</td>\n",
       "      <td>147</td>\n",
       "      <td>3</td>\n",
       "    </tr>\n",
       "    <tr>\n",
       "      <th>top</th>\n",
       "      <td>Braund, Mr. Owen Harris</td>\n",
       "      <td>male</td>\n",
       "      <td>347082</td>\n",
       "      <td>B96 B98</td>\n",
       "      <td>S</td>\n",
       "    </tr>\n",
       "    <tr>\n",
       "      <th>freq</th>\n",
       "      <td>1</td>\n",
       "      <td>577</td>\n",
       "      <td>7</td>\n",
       "      <td>4</td>\n",
       "      <td>644</td>\n",
       "    </tr>\n",
       "  </tbody>\n",
       "</table>\n",
       "</div>"
      ],
      "text/plain": [
       "                           Name   Sex  Ticket    Cabin Embarked\n",
       "count                       891   891     891      204      889\n",
       "unique                      891     2     681      147        3\n",
       "top     Braund, Mr. Owen Harris  male  347082  B96 B98        S\n",
       "freq                          1   577       7        4      644"
      ]
     },
     "execution_count": 9,
     "metadata": {},
     "output_type": "execute_result"
    }
   ],
   "source": [
    "# To get some info about the object colomns \n",
    "train_df.describe(include=['O'])"
   ]
  },
  {
   "cell_type": "code",
   "execution_count": 10,
   "id": "52d05908",
   "metadata": {
    "execution": {
     "iopub.execute_input": "2025-03-17T21:49:12.376182Z",
     "iopub.status.busy": "2025-03-17T21:49:12.375873Z",
     "iopub.status.idle": "2025-03-17T21:49:12.386576Z",
     "shell.execute_reply": "2025-03-17T21:49:12.385643Z"
    },
    "papermill": {
     "duration": 0.020747,
     "end_time": "2025-03-17T21:49:12.388576",
     "exception": false,
     "start_time": "2025-03-17T21:49:12.367829",
     "status": "completed"
    },
    "tags": []
   },
   "outputs": [
    {
     "data": {
      "text/html": [
       "<div>\n",
       "<style scoped>\n",
       "    .dataframe tbody tr th:only-of-type {\n",
       "        vertical-align: middle;\n",
       "    }\n",
       "\n",
       "    .dataframe tbody tr th {\n",
       "        vertical-align: top;\n",
       "    }\n",
       "\n",
       "    .dataframe thead th {\n",
       "        text-align: right;\n",
       "    }\n",
       "</style>\n",
       "<table border=\"1\" class=\"dataframe\">\n",
       "  <thead>\n",
       "    <tr style=\"text-align: right;\">\n",
       "      <th></th>\n",
       "      <th>Pclass</th>\n",
       "      <th>Survived</th>\n",
       "    </tr>\n",
       "  </thead>\n",
       "  <tbody>\n",
       "    <tr>\n",
       "      <th>0</th>\n",
       "      <td>1</td>\n",
       "      <td>0.629630</td>\n",
       "    </tr>\n",
       "    <tr>\n",
       "      <th>1</th>\n",
       "      <td>2</td>\n",
       "      <td>0.472826</td>\n",
       "    </tr>\n",
       "    <tr>\n",
       "      <th>2</th>\n",
       "      <td>3</td>\n",
       "      <td>0.242363</td>\n",
       "    </tr>\n",
       "  </tbody>\n",
       "</table>\n",
       "</div>"
      ],
      "text/plain": [
       "   Pclass  Survived\n",
       "0       1  0.629630\n",
       "1       2  0.472826\n",
       "2       3  0.242363"
      ]
     },
     "execution_count": 10,
     "metadata": {},
     "output_type": "execute_result"
    }
   ],
   "source": [
    "train_df.groupby(['Pclass'], as_index=False)['Survived'].mean()"
   ]
  },
  {
   "cell_type": "markdown",
   "id": "c9cd9412",
   "metadata": {
    "papermill": {
     "duration": 0.007145,
     "end_time": "2025-03-17T21:49:12.403351",
     "exception": false,
     "start_time": "2025-03-17T21:49:12.396206",
     "status": "completed"
    },
    "tags": []
   },
   "source": [
    "You have a higher chance to survive if you are in the 1st class"
   ]
  },
  {
   "cell_type": "code",
   "execution_count": 11,
   "id": "6b4f1ba0",
   "metadata": {
    "execution": {
     "iopub.execute_input": "2025-03-17T21:49:12.418899Z",
     "iopub.status.busy": "2025-03-17T21:49:12.418630Z",
     "iopub.status.idle": "2025-03-17T21:49:12.428031Z",
     "shell.execute_reply": "2025-03-17T21:49:12.427187Z"
    },
    "papermill": {
     "duration": 0.019013,
     "end_time": "2025-03-17T21:49:12.429563",
     "exception": false,
     "start_time": "2025-03-17T21:49:12.410550",
     "status": "completed"
    },
    "tags": []
   },
   "outputs": [
    {
     "data": {
      "text/html": [
       "<div>\n",
       "<style scoped>\n",
       "    .dataframe tbody tr th:only-of-type {\n",
       "        vertical-align: middle;\n",
       "    }\n",
       "\n",
       "    .dataframe tbody tr th {\n",
       "        vertical-align: top;\n",
       "    }\n",
       "\n",
       "    .dataframe thead th {\n",
       "        text-align: right;\n",
       "    }\n",
       "</style>\n",
       "<table border=\"1\" class=\"dataframe\">\n",
       "  <thead>\n",
       "    <tr style=\"text-align: right;\">\n",
       "      <th></th>\n",
       "      <th>Sex</th>\n",
       "      <th>Survived</th>\n",
       "    </tr>\n",
       "  </thead>\n",
       "  <tbody>\n",
       "    <tr>\n",
       "      <th>0</th>\n",
       "      <td>female</td>\n",
       "      <td>0.742038</td>\n",
       "    </tr>\n",
       "    <tr>\n",
       "      <th>1</th>\n",
       "      <td>male</td>\n",
       "      <td>0.188908</td>\n",
       "    </tr>\n",
       "  </tbody>\n",
       "</table>\n",
       "</div>"
      ],
      "text/plain": [
       "      Sex  Survived\n",
       "0  female  0.742038\n",
       "1    male  0.188908"
      ]
     },
     "execution_count": 11,
     "metadata": {},
     "output_type": "execute_result"
    }
   ],
   "source": [
    "train_df.groupby(['Sex'], as_index=False)['Survived'].mean()"
   ]
  },
  {
   "cell_type": "markdown",
   "id": "e0b56b66",
   "metadata": {
    "papermill": {
     "duration": 0.006818,
     "end_time": "2025-03-17T21:49:12.443764",
     "exception": false,
     "start_time": "2025-03-17T21:49:12.436946",
     "status": "completed"
    },
    "tags": []
   },
   "source": [
    "Even though there is more male then female, female are most likely to survive than male"
   ]
  },
  {
   "cell_type": "code",
   "execution_count": 12,
   "id": "910ba7f6",
   "metadata": {
    "execution": {
     "iopub.execute_input": "2025-03-17T21:49:12.459304Z",
     "iopub.status.busy": "2025-03-17T21:49:12.458914Z",
     "iopub.status.idle": "2025-03-17T21:49:12.468688Z",
     "shell.execute_reply": "2025-03-17T21:49:12.467767Z"
    },
    "papermill": {
     "duration": 0.019157,
     "end_time": "2025-03-17T21:49:12.469987",
     "exception": false,
     "start_time": "2025-03-17T21:49:12.450830",
     "status": "completed"
    },
    "tags": []
   },
   "outputs": [
    {
     "data": {
      "text/html": [
       "<div>\n",
       "<style scoped>\n",
       "    .dataframe tbody tr th:only-of-type {\n",
       "        vertical-align: middle;\n",
       "    }\n",
       "\n",
       "    .dataframe tbody tr th {\n",
       "        vertical-align: top;\n",
       "    }\n",
       "\n",
       "    .dataframe thead th {\n",
       "        text-align: right;\n",
       "    }\n",
       "</style>\n",
       "<table border=\"1\" class=\"dataframe\">\n",
       "  <thead>\n",
       "    <tr style=\"text-align: right;\">\n",
       "      <th></th>\n",
       "      <th>SibSp</th>\n",
       "      <th>Survived</th>\n",
       "    </tr>\n",
       "  </thead>\n",
       "  <tbody>\n",
       "    <tr>\n",
       "      <th>0</th>\n",
       "      <td>0</td>\n",
       "      <td>0.345395</td>\n",
       "    </tr>\n",
       "    <tr>\n",
       "      <th>1</th>\n",
       "      <td>1</td>\n",
       "      <td>0.535885</td>\n",
       "    </tr>\n",
       "    <tr>\n",
       "      <th>2</th>\n",
       "      <td>2</td>\n",
       "      <td>0.464286</td>\n",
       "    </tr>\n",
       "    <tr>\n",
       "      <th>3</th>\n",
       "      <td>3</td>\n",
       "      <td>0.250000</td>\n",
       "    </tr>\n",
       "    <tr>\n",
       "      <th>4</th>\n",
       "      <td>4</td>\n",
       "      <td>0.166667</td>\n",
       "    </tr>\n",
       "    <tr>\n",
       "      <th>5</th>\n",
       "      <td>5</td>\n",
       "      <td>0.000000</td>\n",
       "    </tr>\n",
       "    <tr>\n",
       "      <th>6</th>\n",
       "      <td>8</td>\n",
       "      <td>0.000000</td>\n",
       "    </tr>\n",
       "  </tbody>\n",
       "</table>\n",
       "</div>"
      ],
      "text/plain": [
       "   SibSp  Survived\n",
       "0      0  0.345395\n",
       "1      1  0.535885\n",
       "2      2  0.464286\n",
       "3      3  0.250000\n",
       "4      4  0.166667\n",
       "5      5  0.000000\n",
       "6      8  0.000000"
      ]
     },
     "execution_count": 12,
     "metadata": {},
     "output_type": "execute_result"
    }
   ],
   "source": [
    "train_df.groupby(['SibSp'], as_index=False)['Survived'].mean()"
   ]
  },
  {
   "cell_type": "code",
   "execution_count": 13,
   "id": "2e2d5ffb",
   "metadata": {
    "execution": {
     "iopub.execute_input": "2025-03-17T21:49:12.486005Z",
     "iopub.status.busy": "2025-03-17T21:49:12.485711Z",
     "iopub.status.idle": "2025-03-17T21:49:12.495121Z",
     "shell.execute_reply": "2025-03-17T21:49:12.494180Z"
    },
    "papermill": {
     "duration": 0.018726,
     "end_time": "2025-03-17T21:49:12.496404",
     "exception": false,
     "start_time": "2025-03-17T21:49:12.477678",
     "status": "completed"
    },
    "tags": []
   },
   "outputs": [
    {
     "data": {
      "text/html": [
       "<div>\n",
       "<style scoped>\n",
       "    .dataframe tbody tr th:only-of-type {\n",
       "        vertical-align: middle;\n",
       "    }\n",
       "\n",
       "    .dataframe tbody tr th {\n",
       "        vertical-align: top;\n",
       "    }\n",
       "\n",
       "    .dataframe thead th {\n",
       "        text-align: right;\n",
       "    }\n",
       "</style>\n",
       "<table border=\"1\" class=\"dataframe\">\n",
       "  <thead>\n",
       "    <tr style=\"text-align: right;\">\n",
       "      <th></th>\n",
       "      <th>Parch</th>\n",
       "      <th>Survived</th>\n",
       "    </tr>\n",
       "  </thead>\n",
       "  <tbody>\n",
       "    <tr>\n",
       "      <th>0</th>\n",
       "      <td>0</td>\n",
       "      <td>0.343658</td>\n",
       "    </tr>\n",
       "    <tr>\n",
       "      <th>1</th>\n",
       "      <td>1</td>\n",
       "      <td>0.550847</td>\n",
       "    </tr>\n",
       "    <tr>\n",
       "      <th>2</th>\n",
       "      <td>2</td>\n",
       "      <td>0.500000</td>\n",
       "    </tr>\n",
       "    <tr>\n",
       "      <th>3</th>\n",
       "      <td>3</td>\n",
       "      <td>0.600000</td>\n",
       "    </tr>\n",
       "    <tr>\n",
       "      <th>4</th>\n",
       "      <td>4</td>\n",
       "      <td>0.000000</td>\n",
       "    </tr>\n",
       "    <tr>\n",
       "      <th>5</th>\n",
       "      <td>5</td>\n",
       "      <td>0.200000</td>\n",
       "    </tr>\n",
       "    <tr>\n",
       "      <th>6</th>\n",
       "      <td>6</td>\n",
       "      <td>0.000000</td>\n",
       "    </tr>\n",
       "  </tbody>\n",
       "</table>\n",
       "</div>"
      ],
      "text/plain": [
       "   Parch  Survived\n",
       "0      0  0.343658\n",
       "1      1  0.550847\n",
       "2      2  0.500000\n",
       "3      3  0.600000\n",
       "4      4  0.000000\n",
       "5      5  0.200000\n",
       "6      6  0.000000"
      ]
     },
     "execution_count": 13,
     "metadata": {},
     "output_type": "execute_result"
    }
   ],
   "source": [
    "train_df.groupby(['Parch'], as_index=False)['Survived'].mean()"
   ]
  },
  {
   "cell_type": "code",
   "execution_count": 14,
   "id": "dddcd248",
   "metadata": {
    "execution": {
     "iopub.execute_input": "2025-03-17T21:49:12.512247Z",
     "iopub.status.busy": "2025-03-17T21:49:12.511899Z",
     "iopub.status.idle": "2025-03-17T21:49:12.518130Z",
     "shell.execute_reply": "2025-03-17T21:49:12.516701Z"
    },
    "papermill": {
     "duration": 0.016196,
     "end_time": "2025-03-17T21:49:12.520087",
     "exception": false,
     "start_time": "2025-03-17T21:49:12.503891",
     "status": "completed"
    },
    "tags": []
   },
   "outputs": [],
   "source": [
    "train_df['Family_Size'] = train_df['SibSp'] + train_df['Parch'] + 1\n",
    "test_df['Family_Size'] = test_df['SibSp'] + test_df['Parch'] + 1"
   ]
  },
  {
   "cell_type": "markdown",
   "id": "e62f2245",
   "metadata": {
    "papermill": {
     "duration": 0.007149,
     "end_time": "2025-03-17T21:49:12.535137",
     "exception": false,
     "start_time": "2025-03-17T21:49:12.527988",
     "status": "completed"
    },
    "tags": []
   },
   "source": [
    "To get the size of a familly "
   ]
  },
  {
   "cell_type": "code",
   "execution_count": 15,
   "id": "0e442e0f",
   "metadata": {
    "execution": {
     "iopub.execute_input": "2025-03-17T21:49:12.551247Z",
     "iopub.status.busy": "2025-03-17T21:49:12.550950Z",
     "iopub.status.idle": "2025-03-17T21:49:12.563083Z",
     "shell.execute_reply": "2025-03-17T21:49:12.562098Z"
    },
    "papermill": {
     "duration": 0.021899,
     "end_time": "2025-03-17T21:49:12.564538",
     "exception": false,
     "start_time": "2025-03-17T21:49:12.542639",
     "status": "completed"
    },
    "tags": []
   },
   "outputs": [
    {
     "data": {
      "text/html": [
       "<div>\n",
       "<style scoped>\n",
       "    .dataframe tbody tr th:only-of-type {\n",
       "        vertical-align: middle;\n",
       "    }\n",
       "\n",
       "    .dataframe tbody tr th {\n",
       "        vertical-align: top;\n",
       "    }\n",
       "\n",
       "    .dataframe thead th {\n",
       "        text-align: right;\n",
       "    }\n",
       "</style>\n",
       "<table border=\"1\" class=\"dataframe\">\n",
       "  <thead>\n",
       "    <tr style=\"text-align: right;\">\n",
       "      <th></th>\n",
       "      <th>PassengerId</th>\n",
       "      <th>Survived</th>\n",
       "      <th>Pclass</th>\n",
       "      <th>Name</th>\n",
       "      <th>Sex</th>\n",
       "      <th>Age</th>\n",
       "      <th>SibSp</th>\n",
       "      <th>Parch</th>\n",
       "      <th>Ticket</th>\n",
       "      <th>Fare</th>\n",
       "      <th>Cabin</th>\n",
       "      <th>Embarked</th>\n",
       "      <th>Family_Size</th>\n",
       "    </tr>\n",
       "  </thead>\n",
       "  <tbody>\n",
       "    <tr>\n",
       "      <th>0</th>\n",
       "      <td>1</td>\n",
       "      <td>0</td>\n",
       "      <td>3</td>\n",
       "      <td>Braund, Mr. Owen Harris</td>\n",
       "      <td>male</td>\n",
       "      <td>22.0</td>\n",
       "      <td>1</td>\n",
       "      <td>0</td>\n",
       "      <td>A/5 21171</td>\n",
       "      <td>7.2500</td>\n",
       "      <td>NaN</td>\n",
       "      <td>S</td>\n",
       "      <td>2</td>\n",
       "    </tr>\n",
       "    <tr>\n",
       "      <th>1</th>\n",
       "      <td>2</td>\n",
       "      <td>1</td>\n",
       "      <td>1</td>\n",
       "      <td>Cumings, Mrs. John Bradley (Florence Briggs Th...</td>\n",
       "      <td>female</td>\n",
       "      <td>38.0</td>\n",
       "      <td>1</td>\n",
       "      <td>0</td>\n",
       "      <td>PC 17599</td>\n",
       "      <td>71.2833</td>\n",
       "      <td>C85</td>\n",
       "      <td>C</td>\n",
       "      <td>2</td>\n",
       "    </tr>\n",
       "    <tr>\n",
       "      <th>2</th>\n",
       "      <td>3</td>\n",
       "      <td>1</td>\n",
       "      <td>3</td>\n",
       "      <td>Heikkinen, Miss. Laina</td>\n",
       "      <td>female</td>\n",
       "      <td>26.0</td>\n",
       "      <td>0</td>\n",
       "      <td>0</td>\n",
       "      <td>STON/O2. 3101282</td>\n",
       "      <td>7.9250</td>\n",
       "      <td>NaN</td>\n",
       "      <td>S</td>\n",
       "      <td>1</td>\n",
       "    </tr>\n",
       "    <tr>\n",
       "      <th>3</th>\n",
       "      <td>4</td>\n",
       "      <td>1</td>\n",
       "      <td>1</td>\n",
       "      <td>Futrelle, Mrs. Jacques Heath (Lily May Peel)</td>\n",
       "      <td>female</td>\n",
       "      <td>35.0</td>\n",
       "      <td>1</td>\n",
       "      <td>0</td>\n",
       "      <td>113803</td>\n",
       "      <td>53.1000</td>\n",
       "      <td>C123</td>\n",
       "      <td>S</td>\n",
       "      <td>2</td>\n",
       "    </tr>\n",
       "    <tr>\n",
       "      <th>4</th>\n",
       "      <td>5</td>\n",
       "      <td>0</td>\n",
       "      <td>3</td>\n",
       "      <td>Allen, Mr. William Henry</td>\n",
       "      <td>male</td>\n",
       "      <td>35.0</td>\n",
       "      <td>0</td>\n",
       "      <td>0</td>\n",
       "      <td>373450</td>\n",
       "      <td>8.0500</td>\n",
       "      <td>NaN</td>\n",
       "      <td>S</td>\n",
       "      <td>1</td>\n",
       "    </tr>\n",
       "  </tbody>\n",
       "</table>\n",
       "</div>"
      ],
      "text/plain": [
       "   PassengerId  Survived  Pclass  \\\n",
       "0            1         0       3   \n",
       "1            2         1       1   \n",
       "2            3         1       3   \n",
       "3            4         1       1   \n",
       "4            5         0       3   \n",
       "\n",
       "                                                Name     Sex   Age  SibSp  \\\n",
       "0                            Braund, Mr. Owen Harris    male  22.0      1   \n",
       "1  Cumings, Mrs. John Bradley (Florence Briggs Th...  female  38.0      1   \n",
       "2                             Heikkinen, Miss. Laina  female  26.0      0   \n",
       "3       Futrelle, Mrs. Jacques Heath (Lily May Peel)  female  35.0      1   \n",
       "4                           Allen, Mr. William Henry    male  35.0      0   \n",
       "\n",
       "   Parch            Ticket     Fare Cabin Embarked  Family_Size  \n",
       "0      0         A/5 21171   7.2500   NaN        S            2  \n",
       "1      0          PC 17599  71.2833   C85        C            2  \n",
       "2      0  STON/O2. 3101282   7.9250   NaN        S            1  \n",
       "3      0            113803  53.1000  C123        S            2  \n",
       "4      0            373450   8.0500   NaN        S            1  "
      ]
     },
     "execution_count": 15,
     "metadata": {},
     "output_type": "execute_result"
    }
   ],
   "source": [
    "train_df.head()"
   ]
  },
  {
   "cell_type": "code",
   "execution_count": 16,
   "id": "236558c8",
   "metadata": {
    "execution": {
     "iopub.execute_input": "2025-03-17T21:49:12.581214Z",
     "iopub.status.busy": "2025-03-17T21:49:12.580890Z",
     "iopub.status.idle": "2025-03-17T21:49:12.590147Z",
     "shell.execute_reply": "2025-03-17T21:49:12.589178Z"
    },
    "papermill": {
     "duration": 0.019456,
     "end_time": "2025-03-17T21:49:12.591906",
     "exception": false,
     "start_time": "2025-03-17T21:49:12.572450",
     "status": "completed"
    },
    "tags": []
   },
   "outputs": [
    {
     "data": {
      "text/html": [
       "<div>\n",
       "<style scoped>\n",
       "    .dataframe tbody tr th:only-of-type {\n",
       "        vertical-align: middle;\n",
       "    }\n",
       "\n",
       "    .dataframe tbody tr th {\n",
       "        vertical-align: top;\n",
       "    }\n",
       "\n",
       "    .dataframe thead th {\n",
       "        text-align: right;\n",
       "    }\n",
       "</style>\n",
       "<table border=\"1\" class=\"dataframe\">\n",
       "  <thead>\n",
       "    <tr style=\"text-align: right;\">\n",
       "      <th></th>\n",
       "      <th>Family_Size</th>\n",
       "      <th>Survived</th>\n",
       "    </tr>\n",
       "  </thead>\n",
       "  <tbody>\n",
       "    <tr>\n",
       "      <th>0</th>\n",
       "      <td>1</td>\n",
       "      <td>0.303538</td>\n",
       "    </tr>\n",
       "    <tr>\n",
       "      <th>1</th>\n",
       "      <td>2</td>\n",
       "      <td>0.552795</td>\n",
       "    </tr>\n",
       "    <tr>\n",
       "      <th>2</th>\n",
       "      <td>3</td>\n",
       "      <td>0.578431</td>\n",
       "    </tr>\n",
       "    <tr>\n",
       "      <th>3</th>\n",
       "      <td>4</td>\n",
       "      <td>0.724138</td>\n",
       "    </tr>\n",
       "    <tr>\n",
       "      <th>4</th>\n",
       "      <td>5</td>\n",
       "      <td>0.200000</td>\n",
       "    </tr>\n",
       "    <tr>\n",
       "      <th>5</th>\n",
       "      <td>6</td>\n",
       "      <td>0.136364</td>\n",
       "    </tr>\n",
       "    <tr>\n",
       "      <th>6</th>\n",
       "      <td>7</td>\n",
       "      <td>0.333333</td>\n",
       "    </tr>\n",
       "    <tr>\n",
       "      <th>7</th>\n",
       "      <td>8</td>\n",
       "      <td>0.000000</td>\n",
       "    </tr>\n",
       "    <tr>\n",
       "      <th>8</th>\n",
       "      <td>11</td>\n",
       "      <td>0.000000</td>\n",
       "    </tr>\n",
       "  </tbody>\n",
       "</table>\n",
       "</div>"
      ],
      "text/plain": [
       "   Family_Size  Survived\n",
       "0            1  0.303538\n",
       "1            2  0.552795\n",
       "2            3  0.578431\n",
       "3            4  0.724138\n",
       "4            5  0.200000\n",
       "5            6  0.136364\n",
       "6            7  0.333333\n",
       "7            8  0.000000\n",
       "8           11  0.000000"
      ]
     },
     "execution_count": 16,
     "metadata": {},
     "output_type": "execute_result"
    }
   ],
   "source": [
    "train_df.groupby(['Family_Size'], as_index=False)['Survived'].mean()"
   ]
  },
  {
   "cell_type": "code",
   "execution_count": 17,
   "id": "00568272",
   "metadata": {
    "execution": {
     "iopub.execute_input": "2025-03-17T21:49:12.608877Z",
     "iopub.status.busy": "2025-03-17T21:49:12.608586Z",
     "iopub.status.idle": "2025-03-17T21:49:12.615321Z",
     "shell.execute_reply": "2025-03-17T21:49:12.614338Z"
    },
    "papermill": {
     "duration": 0.017263,
     "end_time": "2025-03-17T21:49:12.617204",
     "exception": false,
     "start_time": "2025-03-17T21:49:12.599941",
     "status": "completed"
    },
    "tags": []
   },
   "outputs": [],
   "source": [
    "family_map = {1: 'Alone', 2: 'Small', 3:'Small', 4:'Small', 5:'Medium', 6:'Medium', 7:'Large', 8:'Large'}\n",
    "train_df['Family_Size_Grouped'] = train_df['Family_Size'].map(family_map)\n",
    "test_df['Family_Size_Grouped'] = test_df['Family_Size'].map(family_map)"
   ]
  },
  {
   "cell_type": "code",
   "execution_count": 18,
   "id": "6e14e093",
   "metadata": {
    "execution": {
     "iopub.execute_input": "2025-03-17T21:49:12.634274Z",
     "iopub.status.busy": "2025-03-17T21:49:12.633938Z",
     "iopub.status.idle": "2025-03-17T21:49:12.643646Z",
     "shell.execute_reply": "2025-03-17T21:49:12.642536Z"
    },
    "papermill": {
     "duration": 0.019973,
     "end_time": "2025-03-17T21:49:12.645348",
     "exception": false,
     "start_time": "2025-03-17T21:49:12.625375",
     "status": "completed"
    },
    "tags": []
   },
   "outputs": [
    {
     "data": {
      "text/html": [
       "<div>\n",
       "<style scoped>\n",
       "    .dataframe tbody tr th:only-of-type {\n",
       "        vertical-align: middle;\n",
       "    }\n",
       "\n",
       "    .dataframe tbody tr th {\n",
       "        vertical-align: top;\n",
       "    }\n",
       "\n",
       "    .dataframe thead th {\n",
       "        text-align: right;\n",
       "    }\n",
       "</style>\n",
       "<table border=\"1\" class=\"dataframe\">\n",
       "  <thead>\n",
       "    <tr style=\"text-align: right;\">\n",
       "      <th></th>\n",
       "      <th>Family_Size_Grouped</th>\n",
       "      <th>Survived</th>\n",
       "    </tr>\n",
       "  </thead>\n",
       "  <tbody>\n",
       "    <tr>\n",
       "      <th>0</th>\n",
       "      <td>Alone</td>\n",
       "      <td>0.303538</td>\n",
       "    </tr>\n",
       "    <tr>\n",
       "      <th>1</th>\n",
       "      <td>Large</td>\n",
       "      <td>0.222222</td>\n",
       "    </tr>\n",
       "    <tr>\n",
       "      <th>2</th>\n",
       "      <td>Medium</td>\n",
       "      <td>0.162162</td>\n",
       "    </tr>\n",
       "    <tr>\n",
       "      <th>3</th>\n",
       "      <td>Small</td>\n",
       "      <td>0.578767</td>\n",
       "    </tr>\n",
       "  </tbody>\n",
       "</table>\n",
       "</div>"
      ],
      "text/plain": [
       "  Family_Size_Grouped  Survived\n",
       "0               Alone  0.303538\n",
       "1               Large  0.222222\n",
       "2              Medium  0.162162\n",
       "3               Small  0.578767"
      ]
     },
     "execution_count": 18,
     "metadata": {},
     "output_type": "execute_result"
    }
   ],
   "source": [
    "train_df.groupby(['Family_Size_Grouped'], as_index=False)['Survived'].mean()"
   ]
  },
  {
   "cell_type": "code",
   "execution_count": 19,
   "id": "1c65768e",
   "metadata": {
    "execution": {
     "iopub.execute_input": "2025-03-17T21:49:12.662535Z",
     "iopub.status.busy": "2025-03-17T21:49:12.662203Z",
     "iopub.status.idle": "2025-03-17T21:49:12.671291Z",
     "shell.execute_reply": "2025-03-17T21:49:12.669630Z"
    },
    "papermill": {
     "duration": 0.019094,
     "end_time": "2025-03-17T21:49:12.672691",
     "exception": false,
     "start_time": "2025-03-17T21:49:12.653597",
     "status": "completed"
    },
    "tags": []
   },
   "outputs": [
    {
     "data": {
      "text/html": [
       "<div>\n",
       "<style scoped>\n",
       "    .dataframe tbody tr th:only-of-type {\n",
       "        vertical-align: middle;\n",
       "    }\n",
       "\n",
       "    .dataframe tbody tr th {\n",
       "        vertical-align: top;\n",
       "    }\n",
       "\n",
       "    .dataframe thead th {\n",
       "        text-align: right;\n",
       "    }\n",
       "</style>\n",
       "<table border=\"1\" class=\"dataframe\">\n",
       "  <thead>\n",
       "    <tr style=\"text-align: right;\">\n",
       "      <th></th>\n",
       "      <th>Embarked</th>\n",
       "      <th>Survived</th>\n",
       "    </tr>\n",
       "  </thead>\n",
       "  <tbody>\n",
       "    <tr>\n",
       "      <th>0</th>\n",
       "      <td>C</td>\n",
       "      <td>0.553571</td>\n",
       "    </tr>\n",
       "    <tr>\n",
       "      <th>1</th>\n",
       "      <td>Q</td>\n",
       "      <td>0.389610</td>\n",
       "    </tr>\n",
       "    <tr>\n",
       "      <th>2</th>\n",
       "      <td>S</td>\n",
       "      <td>0.336957</td>\n",
       "    </tr>\n",
       "  </tbody>\n",
       "</table>\n",
       "</div>"
      ],
      "text/plain": [
       "  Embarked  Survived\n",
       "0        C  0.553571\n",
       "1        Q  0.389610\n",
       "2        S  0.336957"
      ]
     },
     "execution_count": 19,
     "metadata": {},
     "output_type": "execute_result"
    }
   ],
   "source": [
    "train_df.groupby(['Embarked'], as_index=False)['Survived'].mean()"
   ]
  },
  {
   "cell_type": "code",
   "execution_count": 20,
   "id": "8459b1b0",
   "metadata": {
    "execution": {
     "iopub.execute_input": "2025-03-17T21:49:12.690063Z",
     "iopub.status.busy": "2025-03-17T21:49:12.689796Z",
     "iopub.status.idle": "2025-03-17T21:49:13.305869Z",
     "shell.execute_reply": "2025-03-17T21:49:13.304670Z"
    },
    "papermill": {
     "duration": 0.62663,
     "end_time": "2025-03-17T21:49:13.307665",
     "exception": false,
     "start_time": "2025-03-17T21:49:12.681035",
     "status": "completed"
    },
    "tags": []
   },
   "outputs": [
    {
     "name": "stderr",
     "output_type": "stream",
     "text": [
      "/usr/local/lib/python3.10/dist-packages/seaborn/_oldcore.py:1119: FutureWarning: use_inf_as_na option is deprecated and will be removed in a future version. Convert inf values to NaN before operating instead.\n",
      "  with pd.option_context('mode.use_inf_as_na', True):\n",
      "/usr/local/lib/python3.10/dist-packages/seaborn/_oldcore.py:1075: FutureWarning: When grouping with a length-1 list-like, you will need to pass a length-1 tuple to get_group in a future version of pandas. Pass `(name,)` instead of `name` to silence this warning.\n",
      "  data_subset = grouped_data.get_group(pd_key)\n",
      "/usr/local/lib/python3.10/dist-packages/seaborn/_oldcore.py:1075: FutureWarning: When grouping with a length-1 list-like, you will need to pass a length-1 tuple to get_group in a future version of pandas. Pass `(name,)` instead of `name` to silence this warning.\n",
      "  data_subset = grouped_data.get_group(pd_key)\n",
      "/usr/local/lib/python3.10/dist-packages/seaborn/_oldcore.py:1075: FutureWarning: When grouping with a length-1 list-like, you will need to pass a length-1 tuple to get_group in a future version of pandas. Pass `(name,)` instead of `name` to silence this warning.\n",
      "  data_subset = grouped_data.get_group(pd_key)\n"
     ]
    },
    {
     "data": {
      "text/plain": [
       "<seaborn.axisgrid.FacetGrid at 0x7b8b02dbfee0>"
      ]
     },
     "execution_count": 20,
     "metadata": {},
     "output_type": "execute_result"
    },
    {
     "data": {
      "image/png": "[encoded data removed]",
      "text/plain": [
       "<Figure size 1000x500 with 2 Axes>"
      ]
     },
     "metadata": {},
     "output_type": "display_data"
    }
   ],
   "source": [
    "sns.displot(train_df, x='Age', col='Survived', binwidth=10, height=5)"
   ]
  },
  {
   "cell_type": "code",
   "execution_count": 21,
   "id": "e44fe318",
   "metadata": {
    "execution": {
     "iopub.execute_input": "2025-03-17T21:49:13.326172Z",
     "iopub.status.busy": "2025-03-17T21:49:13.325829Z",
     "iopub.status.idle": "2025-03-17T21:49:13.331066Z",
     "shell.execute_reply": "2025-03-17T21:49:13.330281Z"
    },
    "papermill": {
     "duration": 0.016357,
     "end_time": "2025-03-17T21:49:13.332640",
     "exception": false,
     "start_time": "2025-03-17T21:49:13.316283",
     "status": "completed"
    },
    "tags": []
   },
   "outputs": [
    {
     "data": {
      "text/plain": [
       "342"
      ]
     },
     "execution_count": 21,
     "metadata": {},
     "output_type": "execute_result"
    }
   ],
   "source": [
    "train_df[\"Survived\"].sum()"
   ]
  },
  {
   "cell_type": "code",
   "execution_count": 22,
   "id": "e55edc74",
   "metadata": {
    "execution": {
     "iopub.execute_input": "2025-03-17T21:49:13.351450Z",
     "iopub.status.busy": "2025-03-17T21:49:13.351094Z",
     "iopub.status.idle": "2025-03-17T21:49:13.367866Z",
     "shell.execute_reply": "2025-03-17T21:49:13.366791Z"
    },
    "papermill": {
     "duration": 0.027585,
     "end_time": "2025-03-17T21:49:13.369452",
     "exception": false,
     "start_time": "2025-03-17T21:49:13.341867",
     "status": "completed"
    },
    "tags": []
   },
   "outputs": [],
   "source": [
    "train_df['Age_Cut'] = pd.qcut(train_df['Age'],8)\n",
    "test_df['Age_Cut'] = pd.qcut(test_df['Age'],8)"
   ]
  },
  {
   "cell_type": "code",
   "execution_count": 23,
   "id": "1ce002ec",
   "metadata": {
    "execution": {
     "iopub.execute_input": "2025-03-17T21:49:13.387577Z",
     "iopub.status.busy": "2025-03-17T21:49:13.387174Z",
     "iopub.status.idle": "2025-03-17T21:49:13.396989Z",
     "shell.execute_reply": "2025-03-17T21:49:13.395960Z"
    },
    "papermill": {
     "duration": 0.020336,
     "end_time": "2025-03-17T21:49:13.398370",
     "exception": false,
     "start_time": "2025-03-17T21:49:13.378034",
     "status": "completed"
    },
    "tags": []
   },
   "outputs": [
    {
     "data": {
      "text/html": [
       "<div>\n",
       "<style scoped>\n",
       "    .dataframe tbody tr th:only-of-type {\n",
       "        vertical-align: middle;\n",
       "    }\n",
       "\n",
       "    .dataframe tbody tr th {\n",
       "        vertical-align: top;\n",
       "    }\n",
       "\n",
       "    .dataframe thead th {\n",
       "        text-align: right;\n",
       "    }\n",
       "</style>\n",
       "<table border=\"1\" class=\"dataframe\">\n",
       "  <thead>\n",
       "    <tr style=\"text-align: right;\">\n",
       "      <th></th>\n",
       "      <th>Age</th>\n",
       "      <th>Age_Cut</th>\n",
       "    </tr>\n",
       "  </thead>\n",
       "  <tbody>\n",
       "    <tr>\n",
       "      <th>0</th>\n",
       "      <td>22.0</td>\n",
       "      <td>(20.125, 24.0]</td>\n",
       "    </tr>\n",
       "    <tr>\n",
       "      <th>1</th>\n",
       "      <td>38.0</td>\n",
       "      <td>(32.312, 38.0]</td>\n",
       "    </tr>\n",
       "    <tr>\n",
       "      <th>2</th>\n",
       "      <td>26.0</td>\n",
       "      <td>(24.0, 28.0]</td>\n",
       "    </tr>\n",
       "    <tr>\n",
       "      <th>3</th>\n",
       "      <td>35.0</td>\n",
       "      <td>(32.312, 38.0]</td>\n",
       "    </tr>\n",
       "    <tr>\n",
       "      <th>4</th>\n",
       "      <td>35.0</td>\n",
       "      <td>(32.312, 38.0]</td>\n",
       "    </tr>\n",
       "  </tbody>\n",
       "</table>\n",
       "</div>"
      ],
      "text/plain": [
       "    Age         Age_Cut\n",
       "0  22.0  (20.125, 24.0]\n",
       "1  38.0  (32.312, 38.0]\n",
       "2  26.0    (24.0, 28.0]\n",
       "3  35.0  (32.312, 38.0]\n",
       "4  35.0  (32.312, 38.0]"
      ]
     },
     "execution_count": 23,
     "metadata": {},
     "output_type": "execute_result"
    }
   ],
   "source": [
    "train_df[['Age','Age_Cut']].head()"
   ]
  },
  {
   "cell_type": "code",
   "execution_count": 24,
   "id": "633e5670",
   "metadata": {
    "execution": {
     "iopub.execute_input": "2025-03-17T21:49:13.416285Z",
     "iopub.status.busy": "2025-03-17T21:49:13.415976Z",
     "iopub.status.idle": "2025-03-17T21:49:13.426523Z",
     "shell.execute_reply": "2025-03-17T21:49:13.425544Z"
    },
    "papermill": {
     "duration": 0.020797,
     "end_time": "2025-03-17T21:49:13.427733",
     "exception": false,
     "start_time": "2025-03-17T21:49:13.406936",
     "status": "completed"
    },
    "tags": []
   },
   "outputs": [
    {
     "name": "stderr",
     "output_type": "stream",
     "text": [
      "<ipython-input-24-9446e884d7ed>:1: FutureWarning: The default of observed=False is deprecated and will be changed to True in a future version of pandas. Pass observed=False to retain current behavior or observed=True to adopt the future default and silence this warning.\n",
      "  train_df.groupby(['Age_Cut'], as_index=False)['Survived'].mean()\n"
     ]
    },
    {
     "data": {
      "text/html": [
       "<div>\n",
       "<style scoped>\n",
       "    .dataframe tbody tr th:only-of-type {\n",
       "        vertical-align: middle;\n",
       "    }\n",
       "\n",
       "    .dataframe tbody tr th {\n",
       "        vertical-align: top;\n",
       "    }\n",
       "\n",
       "    .dataframe thead th {\n",
       "        text-align: right;\n",
       "    }\n",
       "</style>\n",
       "<table border=\"1\" class=\"dataframe\">\n",
       "  <thead>\n",
       "    <tr style=\"text-align: right;\">\n",
       "      <th></th>\n",
       "      <th>Age_Cut</th>\n",
       "      <th>Survived</th>\n",
       "    </tr>\n",
       "  </thead>\n",
       "  <tbody>\n",
       "    <tr>\n",
       "      <th>0</th>\n",
       "      <td>(0.419, 16.0]</td>\n",
       "      <td>0.550000</td>\n",
       "    </tr>\n",
       "    <tr>\n",
       "      <th>1</th>\n",
       "      <td>(16.0, 20.125]</td>\n",
       "      <td>0.341772</td>\n",
       "    </tr>\n",
       "    <tr>\n",
       "      <th>2</th>\n",
       "      <td>(20.125, 24.0]</td>\n",
       "      <td>0.367347</td>\n",
       "    </tr>\n",
       "    <tr>\n",
       "      <th>3</th>\n",
       "      <td>(24.0, 28.0]</td>\n",
       "      <td>0.352941</td>\n",
       "    </tr>\n",
       "    <tr>\n",
       "      <th>4</th>\n",
       "      <td>(28.0, 32.312]</td>\n",
       "      <td>0.416667</td>\n",
       "    </tr>\n",
       "    <tr>\n",
       "      <th>5</th>\n",
       "      <td>(32.312, 38.0]</td>\n",
       "      <td>0.450549</td>\n",
       "    </tr>\n",
       "    <tr>\n",
       "      <th>6</th>\n",
       "      <td>(38.0, 47.0]</td>\n",
       "      <td>0.329545</td>\n",
       "    </tr>\n",
       "    <tr>\n",
       "      <th>7</th>\n",
       "      <td>(47.0, 80.0]</td>\n",
       "      <td>0.415730</td>\n",
       "    </tr>\n",
       "  </tbody>\n",
       "</table>\n",
       "</div>"
      ],
      "text/plain": [
       "          Age_Cut  Survived\n",
       "0   (0.419, 16.0]  0.550000\n",
       "1  (16.0, 20.125]  0.341772\n",
       "2  (20.125, 24.0]  0.367347\n",
       "3    (24.0, 28.0]  0.352941\n",
       "4  (28.0, 32.312]  0.416667\n",
       "5  (32.312, 38.0]  0.450549\n",
       "6    (38.0, 47.0]  0.329545\n",
       "7    (47.0, 80.0]  0.415730"
      ]
     },
     "execution_count": 24,
     "metadata": {},
     "output_type": "execute_result"
    }
   ],
   "source": [
    "train_df.groupby(['Age_Cut'], as_index=False)['Survived'].mean()"
   ]
  },
  {
   "cell_type": "code",
   "execution_count": 25,
   "id": "3aecb312",
   "metadata": {
    "execution": {
     "iopub.execute_input": "2025-03-17T21:49:13.446608Z",
     "iopub.status.busy": "2025-03-17T21:49:13.446243Z",
     "iopub.status.idle": "2025-03-17T21:49:13.452076Z",
     "shell.execute_reply": "2025-03-17T21:49:13.451110Z"
    },
    "papermill": {
     "duration": 0.016675,
     "end_time": "2025-03-17T21:49:13.453411",
     "exception": false,
     "start_time": "2025-03-17T21:49:13.436736",
     "status": "completed"
    },
    "tags": []
   },
   "outputs": [],
   "source": [
    "train_df['Age_group'] = train_df['Age_Cut'].cat.codes\n",
    "test_df['Age_group'] = test_df['Age_Cut'].cat.codes"
   ]
  },
  {
   "cell_type": "code",
   "execution_count": 26,
   "id": "d7249935",
   "metadata": {
    "execution": {
     "iopub.execute_input": "2025-03-17T21:49:13.472629Z",
     "iopub.status.busy": "2025-03-17T21:49:13.472335Z",
     "iopub.status.idle": "2025-03-17T21:49:13.485745Z",
     "shell.execute_reply": "2025-03-17T21:49:13.484644Z"
    },
    "papermill": {
     "duration": 0.025249,
     "end_time": "2025-03-17T21:49:13.487819",
     "exception": false,
     "start_time": "2025-03-17T21:49:13.462570",
     "status": "completed"
    },
    "tags": []
   },
   "outputs": [
    {
     "data": {
      "text/html": [
       "<div>\n",
       "<style scoped>\n",
       "    .dataframe tbody tr th:only-of-type {\n",
       "        vertical-align: middle;\n",
       "    }\n",
       "\n",
       "    .dataframe tbody tr th {\n",
       "        vertical-align: top;\n",
       "    }\n",
       "\n",
       "    .dataframe thead th {\n",
       "        text-align: right;\n",
       "    }\n",
       "</style>\n",
       "<table border=\"1\" class=\"dataframe\">\n",
       "  <thead>\n",
       "    <tr style=\"text-align: right;\">\n",
       "      <th></th>\n",
       "      <th>PassengerId</th>\n",
       "      <th>Survived</th>\n",
       "      <th>Pclass</th>\n",
       "      <th>Name</th>\n",
       "      <th>Sex</th>\n",
       "      <th>Age</th>\n",
       "      <th>SibSp</th>\n",
       "      <th>Parch</th>\n",
       "      <th>Ticket</th>\n",
       "      <th>Fare</th>\n",
       "      <th>Cabin</th>\n",
       "      <th>Embarked</th>\n",
       "      <th>Family_Size</th>\n",
       "      <th>Family_Size_Grouped</th>\n",
       "      <th>Age_Cut</th>\n",
       "      <th>Age_group</th>\n",
       "    </tr>\n",
       "  </thead>\n",
       "  <tbody>\n",
       "    <tr>\n",
       "      <th>0</th>\n",
       "      <td>1</td>\n",
       "      <td>0</td>\n",
       "      <td>3</td>\n",
       "      <td>Braund, Mr. Owen Harris</td>\n",
       "      <td>male</td>\n",
       "      <td>22.0</td>\n",
       "      <td>1</td>\n",
       "      <td>0</td>\n",
       "      <td>A/5 21171</td>\n",
       "      <td>7.2500</td>\n",
       "      <td>NaN</td>\n",
       "      <td>S</td>\n",
       "      <td>2</td>\n",
       "      <td>Small</td>\n",
       "      <td>(20.125, 24.0]</td>\n",
       "      <td>2</td>\n",
       "    </tr>\n",
       "    <tr>\n",
       "      <th>1</th>\n",
       "      <td>2</td>\n",
       "      <td>1</td>\n",
       "      <td>1</td>\n",
       "      <td>Cumings, Mrs. John Bradley (Florence Briggs Th...</td>\n",
       "      <td>female</td>\n",
       "      <td>38.0</td>\n",
       "      <td>1</td>\n",
       "      <td>0</td>\n",
       "      <td>PC 17599</td>\n",
       "      <td>71.2833</td>\n",
       "      <td>C85</td>\n",
       "      <td>C</td>\n",
       "      <td>2</td>\n",
       "      <td>Small</td>\n",
       "      <td>(32.312, 38.0]</td>\n",
       "      <td>5</td>\n",
       "    </tr>\n",
       "    <tr>\n",
       "      <th>2</th>\n",
       "      <td>3</td>\n",
       "      <td>1</td>\n",
       "      <td>3</td>\n",
       "      <td>Heikkinen, Miss. Laina</td>\n",
       "      <td>female</td>\n",
       "      <td>26.0</td>\n",
       "      <td>0</td>\n",
       "      <td>0</td>\n",
       "      <td>STON/O2. 3101282</td>\n",
       "      <td>7.9250</td>\n",
       "      <td>NaN</td>\n",
       "      <td>S</td>\n",
       "      <td>1</td>\n",
       "      <td>Alone</td>\n",
       "      <td>(24.0, 28.0]</td>\n",
       "      <td>3</td>\n",
       "    </tr>\n",
       "    <tr>\n",
       "      <th>3</th>\n",
       "      <td>4</td>\n",
       "      <td>1</td>\n",
       "      <td>1</td>\n",
       "      <td>Futrelle, Mrs. Jacques Heath (Lily May Peel)</td>\n",
       "      <td>female</td>\n",
       "      <td>35.0</td>\n",
       "      <td>1</td>\n",
       "      <td>0</td>\n",
       "      <td>113803</td>\n",
       "      <td>53.1000</td>\n",
       "      <td>C123</td>\n",
       "      <td>S</td>\n",
       "      <td>2</td>\n",
       "      <td>Small</td>\n",
       "      <td>(32.312, 38.0]</td>\n",
       "      <td>5</td>\n",
       "    </tr>\n",
       "    <tr>\n",
       "      <th>4</th>\n",
       "      <td>5</td>\n",
       "      <td>0</td>\n",
       "      <td>3</td>\n",
       "      <td>Allen, Mr. William Henry</td>\n",
       "      <td>male</td>\n",
       "      <td>35.0</td>\n",
       "      <td>0</td>\n",
       "      <td>0</td>\n",
       "      <td>373450</td>\n",
       "      <td>8.0500</td>\n",
       "      <td>NaN</td>\n",
       "      <td>S</td>\n",
       "      <td>1</td>\n",
       "      <td>Alone</td>\n",
       "      <td>(32.312, 38.0]</td>\n",
       "      <td>5</td>\n",
       "    </tr>\n",
       "  </tbody>\n",
       "</table>\n",
       "</div>"
      ],
      "text/plain": [
       "   PassengerId  Survived  Pclass  \\\n",
       "0            1         0       3   \n",
       "1            2         1       1   \n",
       "2            3         1       3   \n",
       "3            4         1       1   \n",
       "4            5         0       3   \n",
       "\n",
       "                                                Name     Sex   Age  SibSp  \\\n",
       "0                            Braund, Mr. Owen Harris    male  22.0      1   \n",
       "1  Cumings, Mrs. John Bradley (Florence Briggs Th...  female  38.0      1   \n",
       "2                             Heikkinen, Miss. Laina  female  26.0      0   \n",
       "3       Futrelle, Mrs. Jacques Heath (Lily May Peel)  female  35.0      1   \n",
       "4                           Allen, Mr. William Henry    male  35.0      0   \n",
       "\n",
       "   Parch            Ticket     Fare Cabin Embarked  Family_Size  \\\n",
       "0      0         A/5 21171   7.2500   NaN        S            2   \n",
       "1      0          PC 17599  71.2833   C85        C            2   \n",
       "2      0  STON/O2. 3101282   7.9250   NaN        S            1   \n",
       "3      0            113803  53.1000  C123        S            2   \n",
       "4      0            373450   8.0500   NaN        S            1   \n",
       "\n",
       "  Family_Size_Grouped         Age_Cut  Age_group  \n",
       "0               Small  (20.125, 24.0]          2  \n",
       "1               Small  (32.312, 38.0]          5  \n",
       "2               Alone    (24.0, 28.0]          3  \n",
       "3               Small  (32.312, 38.0]          5  \n",
       "4               Alone  (32.312, 38.0]          5  "
      ]
     },
     "execution_count": 26,
     "metadata": {},
     "output_type": "execute_result"
    }
   ],
   "source": [
    "train_df.head()"
   ]
  },
  {
   "cell_type": "code",
   "execution_count": 27,
   "id": "56bcbaae",
   "metadata": {
    "execution": {
     "iopub.execute_input": "2025-03-17T21:49:13.511669Z",
     "iopub.status.busy": "2025-03-17T21:49:13.511200Z",
     "iopub.status.idle": "2025-03-17T21:49:13.907566Z",
     "shell.execute_reply": "2025-03-17T21:49:13.906491Z"
    },
    "papermill": {
     "duration": 0.410228,
     "end_time": "2025-03-17T21:49:13.908901",
     "exception": false,
     "start_time": "2025-03-17T21:49:13.498673",
     "status": "completed"
    },
    "tags": []
   },
   "outputs": [
    {
     "name": "stderr",
     "output_type": "stream",
     "text": [
      "/usr/local/lib/python3.10/dist-packages/seaborn/_oldcore.py:1119: FutureWarning: use_inf_as_na option is deprecated and will be removed in a future version. Convert inf values to NaN before operating instead.\n",
      "  with pd.option_context('mode.use_inf_as_na', True):\n",
      "/usr/local/lib/python3.10/dist-packages/seaborn/_oldcore.py:1075: FutureWarning: When grouping with a length-1 list-like, you will need to pass a length-1 tuple to get_group in a future version of pandas. Pass `(name,)` instead of `name` to silence this warning.\n",
      "  data_subset = grouped_data.get_group(pd_key)\n",
      "/usr/local/lib/python3.10/dist-packages/seaborn/_oldcore.py:1075: FutureWarning: When grouping with a length-1 list-like, you will need to pass a length-1 tuple to get_group in a future version of pandas. Pass `(name,)` instead of `name` to silence this warning.\n",
      "  data_subset = grouped_data.get_group(pd_key)\n",
      "/usr/local/lib/python3.10/dist-packages/seaborn/_oldcore.py:1075: FutureWarning: When grouping with a length-1 list-like, you will need to pass a length-1 tuple to get_group in a future version of pandas. Pass `(name,)` instead of `name` to silence this warning.\n",
      "  data_subset = grouped_data.get_group(pd_key)\n"
     ]
    },
    {
     "data": {
      "text/plain": [
       "<seaborn.axisgrid.FacetGrid at 0x7b8b0348c400>"
      ]
     },
     "execution_count": 27,
     "metadata": {},
     "output_type": "execute_result"
    },
    {
     "data": {
      "image/png": "[encoded data removed]",
      "text/plain": [
       "<Figure size 1000x500 with 2 Axes>"
      ]
     },
     "metadata": {},
     "output_type": "display_data"
    }
   ],
   "source": [
    "sns.displot(train_df, x='Fare', col='Survived', binwidth=80, height=5)"
   ]
  },
  {
   "cell_type": "code",
   "execution_count": 28,
   "id": "e6e41d46",
   "metadata": {
    "execution": {
     "iopub.execute_input": "2025-03-17T21:49:13.928900Z",
     "iopub.status.busy": "2025-03-17T21:49:13.928553Z",
     "iopub.status.idle": "2025-03-17T21:49:13.939967Z",
     "shell.execute_reply": "2025-03-17T21:49:13.938806Z"
    },
    "papermill": {
     "duration": 0.023166,
     "end_time": "2025-03-17T21:49:13.941745",
     "exception": false,
     "start_time": "2025-03-17T21:49:13.918579",
     "status": "completed"
    },
    "tags": []
   },
   "outputs": [],
   "source": [
    "train_df['Fare_Cut'] = pd.qcut(train_df['Fare'],6)\n",
    "test_df['Fare_Cut'] = pd.qcut(test_df['Fare'],6)"
   ]
  },
  {
   "cell_type": "code",
   "execution_count": 29,
   "id": "728d8e28",
   "metadata": {
    "execution": {
     "iopub.execute_input": "2025-03-17T21:49:13.962291Z",
     "iopub.status.busy": "2025-03-17T21:49:13.961958Z",
     "iopub.status.idle": "2025-03-17T21:49:13.978486Z",
     "shell.execute_reply": "2025-03-17T21:49:13.977584Z"
    },
    "papermill": {
     "duration": 0.027884,
     "end_time": "2025-03-17T21:49:13.979725",
     "exception": false,
     "start_time": "2025-03-17T21:49:13.951841",
     "status": "completed"
    },
    "tags": []
   },
   "outputs": [
    {
     "data": {
      "text/html": [
       "<div>\n",
       "<style scoped>\n",
       "    .dataframe tbody tr th:only-of-type {\n",
       "        vertical-align: middle;\n",
       "    }\n",
       "\n",
       "    .dataframe tbody tr th {\n",
       "        vertical-align: top;\n",
       "    }\n",
       "\n",
       "    .dataframe thead th {\n",
       "        text-align: right;\n",
       "    }\n",
       "</style>\n",
       "<table border=\"1\" class=\"dataframe\">\n",
       "  <thead>\n",
       "    <tr style=\"text-align: right;\">\n",
       "      <th></th>\n",
       "      <th>PassengerId</th>\n",
       "      <th>Survived</th>\n",
       "      <th>Pclass</th>\n",
       "      <th>Name</th>\n",
       "      <th>Sex</th>\n",
       "      <th>Age</th>\n",
       "      <th>SibSp</th>\n",
       "      <th>Parch</th>\n",
       "      <th>Ticket</th>\n",
       "      <th>Fare</th>\n",
       "      <th>Cabin</th>\n",
       "      <th>Embarked</th>\n",
       "      <th>Family_Size</th>\n",
       "      <th>Family_Size_Grouped</th>\n",
       "      <th>Age_Cut</th>\n",
       "      <th>Age_group</th>\n",
       "      <th>Fare_Cut</th>\n",
       "    </tr>\n",
       "  </thead>\n",
       "  <tbody>\n",
       "    <tr>\n",
       "      <th>0</th>\n",
       "      <td>1</td>\n",
       "      <td>0</td>\n",
       "      <td>3</td>\n",
       "      <td>Braund, Mr. Owen Harris</td>\n",
       "      <td>male</td>\n",
       "      <td>22.0</td>\n",
       "      <td>1</td>\n",
       "      <td>0</td>\n",
       "      <td>A/5 21171</td>\n",
       "      <td>7.2500</td>\n",
       "      <td>NaN</td>\n",
       "      <td>S</td>\n",
       "      <td>2</td>\n",
       "      <td>Small</td>\n",
       "      <td>(20.125, 24.0]</td>\n",
       "      <td>2</td>\n",
       "      <td>(-0.001, 7.775]</td>\n",
       "    </tr>\n",
       "    <tr>\n",
       "      <th>1</th>\n",
       "      <td>2</td>\n",
       "      <td>1</td>\n",
       "      <td>1</td>\n",
       "      <td>Cumings, Mrs. John Bradley (Florence Briggs Th...</td>\n",
       "      <td>female</td>\n",
       "      <td>38.0</td>\n",
       "      <td>1</td>\n",
       "      <td>0</td>\n",
       "      <td>PC 17599</td>\n",
       "      <td>71.2833</td>\n",
       "      <td>C85</td>\n",
       "      <td>C</td>\n",
       "      <td>2</td>\n",
       "      <td>Small</td>\n",
       "      <td>(32.312, 38.0]</td>\n",
       "      <td>5</td>\n",
       "      <td>(52.369, 512.329]</td>\n",
       "    </tr>\n",
       "    <tr>\n",
       "      <th>2</th>\n",
       "      <td>3</td>\n",
       "      <td>1</td>\n",
       "      <td>3</td>\n",
       "      <td>Heikkinen, Miss. Laina</td>\n",
       "      <td>female</td>\n",
       "      <td>26.0</td>\n",
       "      <td>0</td>\n",
       "      <td>0</td>\n",
       "      <td>STON/O2. 3101282</td>\n",
       "      <td>7.9250</td>\n",
       "      <td>NaN</td>\n",
       "      <td>S</td>\n",
       "      <td>1</td>\n",
       "      <td>Alone</td>\n",
       "      <td>(24.0, 28.0]</td>\n",
       "      <td>3</td>\n",
       "      <td>(7.775, 8.662]</td>\n",
       "    </tr>\n",
       "    <tr>\n",
       "      <th>3</th>\n",
       "      <td>4</td>\n",
       "      <td>1</td>\n",
       "      <td>1</td>\n",
       "      <td>Futrelle, Mrs. Jacques Heath (Lily May Peel)</td>\n",
       "      <td>female</td>\n",
       "      <td>35.0</td>\n",
       "      <td>1</td>\n",
       "      <td>0</td>\n",
       "      <td>113803</td>\n",
       "      <td>53.1000</td>\n",
       "      <td>C123</td>\n",
       "      <td>S</td>\n",
       "      <td>2</td>\n",
       "      <td>Small</td>\n",
       "      <td>(32.312, 38.0]</td>\n",
       "      <td>5</td>\n",
       "      <td>(52.369, 512.329]</td>\n",
       "    </tr>\n",
       "    <tr>\n",
       "      <th>4</th>\n",
       "      <td>5</td>\n",
       "      <td>0</td>\n",
       "      <td>3</td>\n",
       "      <td>Allen, Mr. William Henry</td>\n",
       "      <td>male</td>\n",
       "      <td>35.0</td>\n",
       "      <td>0</td>\n",
       "      <td>0</td>\n",
       "      <td>373450</td>\n",
       "      <td>8.0500</td>\n",
       "      <td>NaN</td>\n",
       "      <td>S</td>\n",
       "      <td>1</td>\n",
       "      <td>Alone</td>\n",
       "      <td>(32.312, 38.0]</td>\n",
       "      <td>5</td>\n",
       "      <td>(7.775, 8.662]</td>\n",
       "    </tr>\n",
       "  </tbody>\n",
       "</table>\n",
       "</div>"
      ],
      "text/plain": [
       "   PassengerId  Survived  Pclass  \\\n",
       "0            1         0       3   \n",
       "1            2         1       1   \n",
       "2            3         1       3   \n",
       "3            4         1       1   \n",
       "4            5         0       3   \n",
       "\n",
       "                                                Name     Sex   Age  SibSp  \\\n",
       "0                            Braund, Mr. Owen Harris    male  22.0      1   \n",
       "1  Cumings, Mrs. John Bradley (Florence Briggs Th...  female  38.0      1   \n",
       "2                             Heikkinen, Miss. Laina  female  26.0      0   \n",
       "3       Futrelle, Mrs. Jacques Heath (Lily May Peel)  female  35.0      1   \n",
       "4                           Allen, Mr. William Henry    male  35.0      0   \n",
       "\n",
       "   Parch            Ticket     Fare Cabin Embarked  Family_Size  \\\n",
       "0      0         A/5 21171   7.2500   NaN        S            2   \n",
       "1      0          PC 17599  71.2833   C85        C            2   \n",
       "2      0  STON/O2. 3101282   7.9250   NaN        S            1   \n",
       "3      0            113803  53.1000  C123        S            2   \n",
       "4      0            373450   8.0500   NaN        S            1   \n",
       "\n",
       "  Family_Size_Grouped         Age_Cut  Age_group           Fare_Cut  \n",
       "0               Small  (20.125, 24.0]          2    (-0.001, 7.775]  \n",
       "1               Small  (32.312, 38.0]          5  (52.369, 512.329]  \n",
       "2               Alone    (24.0, 28.0]          3     (7.775, 8.662]  \n",
       "3               Small  (32.312, 38.0]          5  (52.369, 512.329]  \n",
       "4               Alone  (32.312, 38.0]          5     (7.775, 8.662]  "
      ]
     },
     "execution_count": 29,
     "metadata": {},
     "output_type": "execute_result"
    }
   ],
   "source": [
    "train_df.head()"
   ]
  },
  {
   "cell_type": "code",
   "execution_count": 30,
   "id": "8f348f22",
   "metadata": {
    "execution": {
     "iopub.execute_input": "2025-03-17T21:49:14.000019Z",
     "iopub.status.busy": "2025-03-17T21:49:13.999719Z",
     "iopub.status.idle": "2025-03-17T21:49:14.004941Z",
     "shell.execute_reply": "2025-03-17T21:49:14.003710Z"
    },
    "papermill": {
     "duration": 0.017021,
     "end_time": "2025-03-17T21:49:14.006582",
     "exception": false,
     "start_time": "2025-03-17T21:49:13.989561",
     "status": "completed"
    },
    "tags": []
   },
   "outputs": [],
   "source": [
    "train_df['Fare_group'] = train_df['Fare_Cut'].cat.codes\n",
    "test_df['Fare_group'] = test_df['Fare_Cut'].cat.codes"
   ]
  },
  {
   "cell_type": "code",
   "execution_count": 31,
   "id": "8efc1be3",
   "metadata": {
    "execution": {
     "iopub.execute_input": "2025-03-17T21:49:14.027194Z",
     "iopub.status.busy": "2025-03-17T21:49:14.026903Z",
     "iopub.status.idle": "2025-03-17T21:49:14.037216Z",
     "shell.execute_reply": "2025-03-17T21:49:14.036072Z"
    },
    "papermill": {
     "duration": 0.022073,
     "end_time": "2025-03-17T21:49:14.038737",
     "exception": false,
     "start_time": "2025-03-17T21:49:14.016664",
     "status": "completed"
    },
    "tags": []
   },
   "outputs": [],
   "source": [
    "train_df['Title'] = train_df['Name'].str.split(pat=',', expand=True)[1].str.split(pat='.', expand=True)[0].apply(lambda x:x.strip())\n",
    "test_df['Title'] = test_df['Name'].str.split(pat=',', expand=True)[1].str.split(pat='.', expand=True)[0].apply(lambda x:x.strip())"
   ]
  },
  {
   "cell_type": "code",
   "execution_count": 32,
   "id": "7fe59898",
   "metadata": {
    "execution": {
     "iopub.execute_input": "2025-03-17T21:49:14.060382Z",
     "iopub.status.busy": "2025-03-17T21:49:14.060017Z",
     "iopub.status.idle": "2025-03-17T21:49:14.069123Z",
     "shell.execute_reply": "2025-03-17T21:49:14.068411Z"
    },
    "papermill": {
     "duration": 0.021584,
     "end_time": "2025-03-17T21:49:14.070224",
     "exception": false,
     "start_time": "2025-03-17T21:49:14.048640",
     "status": "completed"
    },
    "tags": []
   },
   "outputs": [
    {
     "data": {
      "text/html": [
       "<div>\n",
       "<style scoped>\n",
       "    .dataframe tbody tr th:only-of-type {\n",
       "        vertical-align: middle;\n",
       "    }\n",
       "\n",
       "    .dataframe tbody tr th {\n",
       "        vertical-align: top;\n",
       "    }\n",
       "\n",
       "    .dataframe thead th {\n",
       "        text-align: right;\n",
       "    }\n",
       "</style>\n",
       "<table border=\"1\" class=\"dataframe\">\n",
       "  <thead>\n",
       "    <tr style=\"text-align: right;\">\n",
       "      <th></th>\n",
       "      <th>Title</th>\n",
       "      <th>Survived</th>\n",
       "    </tr>\n",
       "  </thead>\n",
       "  <tbody>\n",
       "    <tr>\n",
       "      <th>0</th>\n",
       "      <td>Capt</td>\n",
       "      <td>0.000000</td>\n",
       "    </tr>\n",
       "    <tr>\n",
       "      <th>1</th>\n",
       "      <td>Col</td>\n",
       "      <td>0.500000</td>\n",
       "    </tr>\n",
       "    <tr>\n",
       "      <th>2</th>\n",
       "      <td>Don</td>\n",
       "      <td>0.000000</td>\n",
       "    </tr>\n",
       "    <tr>\n",
       "      <th>3</th>\n",
       "      <td>Dr</td>\n",
       "      <td>0.428571</td>\n",
       "    </tr>\n",
       "    <tr>\n",
       "      <th>4</th>\n",
       "      <td>Jonkheer</td>\n",
       "      <td>0.000000</td>\n",
       "    </tr>\n",
       "    <tr>\n",
       "      <th>5</th>\n",
       "      <td>Lady</td>\n",
       "      <td>1.000000</td>\n",
       "    </tr>\n",
       "    <tr>\n",
       "      <th>6</th>\n",
       "      <td>Major</td>\n",
       "      <td>0.500000</td>\n",
       "    </tr>\n",
       "    <tr>\n",
       "      <th>7</th>\n",
       "      <td>Master</td>\n",
       "      <td>0.575000</td>\n",
       "    </tr>\n",
       "    <tr>\n",
       "      <th>8</th>\n",
       "      <td>Miss</td>\n",
       "      <td>0.697802</td>\n",
       "    </tr>\n",
       "    <tr>\n",
       "      <th>9</th>\n",
       "      <td>Mlle</td>\n",
       "      <td>1.000000</td>\n",
       "    </tr>\n",
       "    <tr>\n",
       "      <th>10</th>\n",
       "      <td>Mme</td>\n",
       "      <td>1.000000</td>\n",
       "    </tr>\n",
       "    <tr>\n",
       "      <th>11</th>\n",
       "      <td>Mr</td>\n",
       "      <td>0.156673</td>\n",
       "    </tr>\n",
       "    <tr>\n",
       "      <th>12</th>\n",
       "      <td>Mrs</td>\n",
       "      <td>0.792000</td>\n",
       "    </tr>\n",
       "    <tr>\n",
       "      <th>13</th>\n",
       "      <td>Ms</td>\n",
       "      <td>1.000000</td>\n",
       "    </tr>\n",
       "    <tr>\n",
       "      <th>14</th>\n",
       "      <td>Rev</td>\n",
       "      <td>0.000000</td>\n",
       "    </tr>\n",
       "    <tr>\n",
       "      <th>15</th>\n",
       "      <td>Sir</td>\n",
       "      <td>1.000000</td>\n",
       "    </tr>\n",
       "    <tr>\n",
       "      <th>16</th>\n",
       "      <td>the Countess</td>\n",
       "      <td>1.000000</td>\n",
       "    </tr>\n",
       "  </tbody>\n",
       "</table>\n",
       "</div>"
      ],
      "text/plain": [
       "           Title  Survived\n",
       "0           Capt  0.000000\n",
       "1            Col  0.500000\n",
       "2            Don  0.000000\n",
       "3             Dr  0.428571\n",
       "4       Jonkheer  0.000000\n",
       "5           Lady  1.000000\n",
       "6          Major  0.500000\n",
       "7         Master  0.575000\n",
       "8           Miss  0.697802\n",
       "9           Mlle  1.000000\n",
       "10           Mme  1.000000\n",
       "11            Mr  0.156673\n",
       "12           Mrs  0.792000\n",
       "13            Ms  1.000000\n",
       "14           Rev  0.000000\n",
       "15           Sir  1.000000\n",
       "16  the Countess  1.000000"
      ]
     },
     "execution_count": 32,
     "metadata": {},
     "output_type": "execute_result"
    }
   ],
   "source": [
    "train_df.groupby(['Title'], as_index=False)['Survived'].mean()"
   ]
  },
  {
   "cell_type": "code",
   "execution_count": 33,
   "id": "62114566",
   "metadata": {
    "execution": {
     "iopub.execute_input": "2025-03-17T21:49:14.090939Z",
     "iopub.status.busy": "2025-03-17T21:49:14.090638Z",
     "iopub.status.idle": "2025-03-17T21:49:14.099413Z",
     "shell.execute_reply": "2025-03-17T21:49:14.098207Z"
    },
    "papermill": {
     "duration": 0.020549,
     "end_time": "2025-03-17T21:49:14.100784",
     "exception": false,
     "start_time": "2025-03-17T21:49:14.080235",
     "status": "completed"
    },
    "tags": []
   },
   "outputs": [],
   "source": [
    "train_df['Title'] = train_df['Title'].replace({\n",
    "    'Capt': 'Military',\n",
    "    'Col': 'Military',\n",
    "    'Major': 'Military',\n",
    "    'Jonkheer': 'Nobel',\n",
    "    'Lady': 'Nobel',\n",
    "    'Sir': 'Nobel',\n",
    "    'Don': 'Nobel',\n",
    "    'Ms': 'Nobel',\n",
    "    'Mme': 'Nobel',\n",
    "    'Mlle': 'Nobel',\n",
    "    'the Countess': 'Nobel'   \n",
    "})\n",
    "\n",
    "test_df['Title'] = test_df['Title'].replace({\n",
    "    'Capt': 'Military',\n",
    "    'Col': 'Military',\n",
    "    'Major': 'Military',\n",
    "    'Jonkheer': 'Nobel',\n",
    "    'Lady': 'Nobel',\n",
    "    'Sir': 'Nobel',\n",
    "    'Don': 'Nobel',\n",
    "    'Ms': 'Nobel',\n",
    "    'Mme': 'Nobel',\n",
    "    'Mlle': 'Nobel',\n",
    "    'the Countess': 'Nobel'   \n",
    "})"
   ]
  },
  {
   "cell_type": "code",
   "execution_count": 34,
   "id": "29ab6a1e",
   "metadata": {
    "execution": {
     "iopub.execute_input": "2025-03-17T21:49:14.122195Z",
     "iopub.status.busy": "2025-03-17T21:49:14.121888Z",
     "iopub.status.idle": "2025-03-17T21:49:14.132197Z",
     "shell.execute_reply": "2025-03-17T21:49:14.131315Z"
    },
    "papermill": {
     "duration": 0.022784,
     "end_time": "2025-03-17T21:49:14.133507",
     "exception": false,
     "start_time": "2025-03-17T21:49:14.110723",
     "status": "completed"
    },
    "tags": []
   },
   "outputs": [
    {
     "data": {
      "text/html": [
       "<div>\n",
       "<style scoped>\n",
       "    .dataframe tbody tr th:only-of-type {\n",
       "        vertical-align: middle;\n",
       "    }\n",
       "\n",
       "    .dataframe tbody tr th {\n",
       "        vertical-align: top;\n",
       "    }\n",
       "\n",
       "    .dataframe thead th {\n",
       "        text-align: right;\n",
       "    }\n",
       "</style>\n",
       "<table border=\"1\" class=\"dataframe\">\n",
       "  <thead>\n",
       "    <tr style=\"text-align: right;\">\n",
       "      <th></th>\n",
       "      <th>Title</th>\n",
       "      <th>count</th>\n",
       "      <th>mean</th>\n",
       "    </tr>\n",
       "  </thead>\n",
       "  <tbody>\n",
       "    <tr>\n",
       "      <th>0</th>\n",
       "      <td>Dr</td>\n",
       "      <td>7</td>\n",
       "      <td>0.428571</td>\n",
       "    </tr>\n",
       "    <tr>\n",
       "      <th>1</th>\n",
       "      <td>Master</td>\n",
       "      <td>40</td>\n",
       "      <td>0.575000</td>\n",
       "    </tr>\n",
       "    <tr>\n",
       "      <th>2</th>\n",
       "      <td>Military</td>\n",
       "      <td>5</td>\n",
       "      <td>0.400000</td>\n",
       "    </tr>\n",
       "    <tr>\n",
       "      <th>3</th>\n",
       "      <td>Miss</td>\n",
       "      <td>182</td>\n",
       "      <td>0.697802</td>\n",
       "    </tr>\n",
       "    <tr>\n",
       "      <th>4</th>\n",
       "      <td>Mr</td>\n",
       "      <td>517</td>\n",
       "      <td>0.156673</td>\n",
       "    </tr>\n",
       "    <tr>\n",
       "      <th>5</th>\n",
       "      <td>Mrs</td>\n",
       "      <td>125</td>\n",
       "      <td>0.792000</td>\n",
       "    </tr>\n",
       "    <tr>\n",
       "      <th>6</th>\n",
       "      <td>Nobel</td>\n",
       "      <td>9</td>\n",
       "      <td>0.777778</td>\n",
       "    </tr>\n",
       "    <tr>\n",
       "      <th>7</th>\n",
       "      <td>Rev</td>\n",
       "      <td>6</td>\n",
       "      <td>0.000000</td>\n",
       "    </tr>\n",
       "  </tbody>\n",
       "</table>\n",
       "</div>"
      ],
      "text/plain": [
       "      Title  count      mean\n",
       "0        Dr      7  0.428571\n",
       "1    Master     40  0.575000\n",
       "2  Military      5  0.400000\n",
       "3      Miss    182  0.697802\n",
       "4        Mr    517  0.156673\n",
       "5       Mrs    125  0.792000\n",
       "6     Nobel      9  0.777778\n",
       "7       Rev      6  0.000000"
      ]
     },
     "execution_count": 34,
     "metadata": {},
     "output_type": "execute_result"
    }
   ],
   "source": [
    "train_df.groupby(['Title'], as_index=False)['Survived'].agg(['count', 'mean'])"
   ]
  },
  {
   "cell_type": "code",
   "execution_count": 35,
   "id": "1b7523c5",
   "metadata": {
    "execution": {
     "iopub.execute_input": "2025-03-17T21:49:14.154418Z",
     "iopub.status.busy": "2025-03-17T21:49:14.154083Z",
     "iopub.status.idle": "2025-03-17T21:49:14.160110Z",
     "shell.execute_reply": "2025-03-17T21:49:14.158911Z"
    },
    "papermill": {
     "duration": 0.018209,
     "end_time": "2025-03-17T21:49:14.161842",
     "exception": false,
     "start_time": "2025-03-17T21:49:14.143633",
     "status": "completed"
    },
    "tags": []
   },
   "outputs": [],
   "source": [
    "train_df['Name_Length'] = train_df['Name'].apply(lambda x: len(x))\n",
    "test_df['Name_Length'] = test_df['Name'].apply(lambda x: len(x))"
   ]
  },
  {
   "cell_type": "code",
   "execution_count": 36,
   "id": "d20bb1ad",
   "metadata": {
    "execution": {
     "iopub.execute_input": "2025-03-17T21:49:14.183091Z",
     "iopub.status.busy": "2025-03-17T21:49:14.182737Z",
     "iopub.status.idle": "2025-03-17T21:49:14.414913Z",
     "shell.execute_reply": "2025-03-17T21:49:14.414037Z"
    },
    "papermill": {
     "duration": 0.244414,
     "end_time": "2025-03-17T21:49:14.416536",
     "exception": false,
     "start_time": "2025-03-17T21:49:14.172122",
     "status": "completed"
    },
    "tags": []
   },
   "outputs": [
    {
     "name": "stderr",
     "output_type": "stream",
     "text": [
      "/usr/local/lib/python3.10/dist-packages/seaborn/_oldcore.py:1119: FutureWarning: use_inf_as_na option is deprecated and will be removed in a future version. Convert inf values to NaN before operating instead.\n",
      "  with pd.option_context('mode.use_inf_as_na', True):\n",
      "/usr/local/lib/python3.10/dist-packages/seaborn/_oldcore.py:1119: FutureWarning: use_inf_as_na option is deprecated and will be removed in a future version. Convert inf values to NaN before operating instead.\n",
      "  with pd.option_context('mode.use_inf_as_na', True):\n"
     ]
    },
    {
     "data": {
      "image/png": "[encoded data removed]",
      "text/plain": [
       "<Figure size 640x480 with 1 Axes>"
      ]
     },
     "metadata": {},
     "output_type": "display_data"
    }
   ],
   "source": [
    "g = sns.kdeplot(train_df['Name_Length'][(train_df['Survived'] == 0) & (train_df['Name_Length'].notnull())], color='Red', fill=True)\n",
    "g = sns.kdeplot(train_df['Name_Length'][(train_df['Survived'] == 1) & (train_df['Name_Length'].notnull())], ax=g, color='Blue', fill=True)\n",
    "g.set_xlabel('Name_Label')\n",
    "g.set_ylabel('Frequency')\n",
    "g = g.legend(['Not Survived', 'Survived'])"
   ]
  },
  {
   "cell_type": "code",
   "execution_count": 37,
   "id": "4f2b5afb",
   "metadata": {
    "execution": {
     "iopub.execute_input": "2025-03-17T21:49:14.439162Z",
     "iopub.status.busy": "2025-03-17T21:49:14.438850Z",
     "iopub.status.idle": "2025-03-17T21:49:14.449318Z",
     "shell.execute_reply": "2025-03-17T21:49:14.448102Z"
    },
    "papermill": {
     "duration": 0.023767,
     "end_time": "2025-03-17T21:49:14.451168",
     "exception": false,
     "start_time": "2025-03-17T21:49:14.427401",
     "status": "completed"
    },
    "tags": []
   },
   "outputs": [],
   "source": [
    "train_df['Name_LengthGB'] = pd.qcut(train_df['Name_Length'],8)\n",
    "test_df['Name_LengthGB'] = pd.qcut(test_df['Name_Length'],8)"
   ]
  },
  {
   "cell_type": "code",
   "execution_count": 38,
   "id": "4b594923",
   "metadata": {
    "execution": {
     "iopub.execute_input": "2025-03-17T21:49:14.486791Z",
     "iopub.status.busy": "2025-03-17T21:49:14.486472Z",
     "iopub.status.idle": "2025-03-17T21:49:14.496848Z",
     "shell.execute_reply": "2025-03-17T21:49:14.496201Z"
    },
    "papermill": {
     "duration": 0.031208,
     "end_time": "2025-03-17T21:49:14.499627",
     "exception": false,
     "start_time": "2025-03-17T21:49:14.468419",
     "status": "completed"
    },
    "tags": []
   },
   "outputs": [
    {
     "name": "stderr",
     "output_type": "stream",
     "text": [
      "<ipython-input-38-4ec6b044a4f7>:1: FutureWarning: The default of observed=False is deprecated and will be changed to True in a future version of pandas. Pass observed=False to retain current behavior or observed=True to adopt the future default and silence this warning.\n",
      "  train_df.groupby(['Name_LengthGB'], as_index=False)['Survived'].mean()\n"
     ]
    },
    {
     "data": {
      "text/html": [
       "<div>\n",
       "<style scoped>\n",
       "    .dataframe tbody tr th:only-of-type {\n",
       "        vertical-align: middle;\n",
       "    }\n",
       "\n",
       "    .dataframe tbody tr th {\n",
       "        vertical-align: top;\n",
       "    }\n",
       "\n",
       "    .dataframe thead th {\n",
       "        text-align: right;\n",
       "    }\n",
       "</style>\n",
       "<table border=\"1\" class=\"dataframe\">\n",
       "  <thead>\n",
       "    <tr style=\"text-align: right;\">\n",
       "      <th></th>\n",
       "      <th>Name_LengthGB</th>\n",
       "      <th>Survived</th>\n",
       "    </tr>\n",
       "  </thead>\n",
       "  <tbody>\n",
       "    <tr>\n",
       "      <th>0</th>\n",
       "      <td>(11.999, 18.0]</td>\n",
       "      <td>0.214286</td>\n",
       "    </tr>\n",
       "    <tr>\n",
       "      <th>1</th>\n",
       "      <td>(18.0, 20.0]</td>\n",
       "      <td>0.252427</td>\n",
       "    </tr>\n",
       "    <tr>\n",
       "      <th>2</th>\n",
       "      <td>(20.0, 23.0]</td>\n",
       "      <td>0.307692</td>\n",
       "    </tr>\n",
       "    <tr>\n",
       "      <th>3</th>\n",
       "      <td>(23.0, 25.0]</td>\n",
       "      <td>0.346939</td>\n",
       "    </tr>\n",
       "    <tr>\n",
       "      <th>4</th>\n",
       "      <td>(25.0, 27.25]</td>\n",
       "      <td>0.292929</td>\n",
       "    </tr>\n",
       "    <tr>\n",
       "      <th>5</th>\n",
       "      <td>(27.25, 30.0]</td>\n",
       "      <td>0.428571</td>\n",
       "    </tr>\n",
       "    <tr>\n",
       "      <th>6</th>\n",
       "      <td>(30.0, 38.0]</td>\n",
       "      <td>0.517241</td>\n",
       "    </tr>\n",
       "    <tr>\n",
       "      <th>7</th>\n",
       "      <td>(38.0, 82.0]</td>\n",
       "      <td>0.745283</td>\n",
       "    </tr>\n",
       "  </tbody>\n",
       "</table>\n",
       "</div>"
      ],
      "text/plain": [
       "    Name_LengthGB  Survived\n",
       "0  (11.999, 18.0]  0.214286\n",
       "1    (18.0, 20.0]  0.252427\n",
       "2    (20.0, 23.0]  0.307692\n",
       "3    (23.0, 25.0]  0.346939\n",
       "4   (25.0, 27.25]  0.292929\n",
       "5   (27.25, 30.0]  0.428571\n",
       "6    (30.0, 38.0]  0.517241\n",
       "7    (38.0, 82.0]  0.745283"
      ]
     },
     "execution_count": 38,
     "metadata": {},
     "output_type": "execute_result"
    }
   ],
   "source": [
    "train_df.groupby(['Name_LengthGB'], as_index=False)['Survived'].mean()"
   ]
  },
  {
   "cell_type": "code",
   "execution_count": 39,
   "id": "26d813fd",
   "metadata": {
    "execution": {
     "iopub.execute_input": "2025-03-17T21:49:14.525188Z",
     "iopub.status.busy": "2025-03-17T21:49:14.524796Z",
     "iopub.status.idle": "2025-03-17T21:49:14.530675Z",
     "shell.execute_reply": "2025-03-17T21:49:14.529765Z"
    },
    "papermill": {
     "duration": 0.019718,
     "end_time": "2025-03-17T21:49:14.532454",
     "exception": false,
     "start_time": "2025-03-17T21:49:14.512736",
     "status": "completed"
    },
    "tags": []
   },
   "outputs": [],
   "source": [
    "train_df['Name_LengthGB_group'] = train_df['Name_LengthGB'].cat.codes\n",
    "test_df['Name_LengthGB_group'] = test_df['Name_LengthGB'].cat.codes"
   ]
  },
  {
   "cell_type": "code",
   "execution_count": 40,
   "id": "d9c00f69",
   "metadata": {
    "execution": {
     "iopub.execute_input": "2025-03-17T21:49:14.556135Z",
     "iopub.status.busy": "2025-03-17T21:49:14.555722Z",
     "iopub.status.idle": "2025-03-17T21:49:14.582014Z",
     "shell.execute_reply": "2025-03-17T21:49:14.580980Z"
    },
    "papermill": {
     "duration": 0.039931,
     "end_time": "2025-03-17T21:49:14.583497",
     "exception": false,
     "start_time": "2025-03-17T21:49:14.543566",
     "status": "completed"
    },
    "tags": []
   },
   "outputs": [
    {
     "data": {
      "text/html": [
       "<div>\n",
       "<style scoped>\n",
       "    .dataframe tbody tr th:only-of-type {\n",
       "        vertical-align: middle;\n",
       "    }\n",
       "\n",
       "    .dataframe tbody tr th {\n",
       "        vertical-align: top;\n",
       "    }\n",
       "\n",
       "    .dataframe thead th {\n",
       "        text-align: right;\n",
       "    }\n",
       "</style>\n",
       "<table border=\"1\" class=\"dataframe\">\n",
       "  <thead>\n",
       "    <tr style=\"text-align: right;\">\n",
       "      <th></th>\n",
       "      <th>PassengerId</th>\n",
       "      <th>Survived</th>\n",
       "      <th>Pclass</th>\n",
       "      <th>Name</th>\n",
       "      <th>Sex</th>\n",
       "      <th>Age</th>\n",
       "      <th>SibSp</th>\n",
       "      <th>Parch</th>\n",
       "      <th>Ticket</th>\n",
       "      <th>Fare</th>\n",
       "      <th>...</th>\n",
       "      <th>Family_Size</th>\n",
       "      <th>Family_Size_Grouped</th>\n",
       "      <th>Age_Cut</th>\n",
       "      <th>Age_group</th>\n",
       "      <th>Fare_Cut</th>\n",
       "      <th>Fare_group</th>\n",
       "      <th>Title</th>\n",
       "      <th>Name_Length</th>\n",
       "      <th>Name_LengthGB</th>\n",
       "      <th>Name_LengthGB_group</th>\n",
       "    </tr>\n",
       "  </thead>\n",
       "  <tbody>\n",
       "    <tr>\n",
       "      <th>0</th>\n",
       "      <td>1</td>\n",
       "      <td>0</td>\n",
       "      <td>3</td>\n",
       "      <td>Braund, Mr. Owen Harris</td>\n",
       "      <td>male</td>\n",
       "      <td>22.0</td>\n",
       "      <td>1</td>\n",
       "      <td>0</td>\n",
       "      <td>A/5 21171</td>\n",
       "      <td>7.2500</td>\n",
       "      <td>...</td>\n",
       "      <td>2</td>\n",
       "      <td>Small</td>\n",
       "      <td>(20.125, 24.0]</td>\n",
       "      <td>2</td>\n",
       "      <td>(-0.001, 7.775]</td>\n",
       "      <td>0</td>\n",
       "      <td>Mr</td>\n",
       "      <td>23</td>\n",
       "      <td>(20.0, 23.0]</td>\n",
       "      <td>2</td>\n",
       "    </tr>\n",
       "    <tr>\n",
       "      <th>1</th>\n",
       "      <td>2</td>\n",
       "      <td>1</td>\n",
       "      <td>1</td>\n",
       "      <td>Cumings, Mrs. John Bradley (Florence Briggs Th...</td>\n",
       "      <td>female</td>\n",
       "      <td>38.0</td>\n",
       "      <td>1</td>\n",
       "      <td>0</td>\n",
       "      <td>PC 17599</td>\n",
       "      <td>71.2833</td>\n",
       "      <td>...</td>\n",
       "      <td>2</td>\n",
       "      <td>Small</td>\n",
       "      <td>(32.312, 38.0]</td>\n",
       "      <td>5</td>\n",
       "      <td>(52.369, 512.329]</td>\n",
       "      <td>5</td>\n",
       "      <td>Mrs</td>\n",
       "      <td>51</td>\n",
       "      <td>(38.0, 82.0]</td>\n",
       "      <td>7</td>\n",
       "    </tr>\n",
       "    <tr>\n",
       "      <th>2</th>\n",
       "      <td>3</td>\n",
       "      <td>1</td>\n",
       "      <td>3</td>\n",
       "      <td>Heikkinen, Miss. Laina</td>\n",
       "      <td>female</td>\n",
       "      <td>26.0</td>\n",
       "      <td>0</td>\n",
       "      <td>0</td>\n",
       "      <td>STON/O2. 3101282</td>\n",
       "      <td>7.9250</td>\n",
       "      <td>...</td>\n",
       "      <td>1</td>\n",
       "      <td>Alone</td>\n",
       "      <td>(24.0, 28.0]</td>\n",
       "      <td>3</td>\n",
       "      <td>(7.775, 8.662]</td>\n",
       "      <td>1</td>\n",
       "      <td>Miss</td>\n",
       "      <td>22</td>\n",
       "      <td>(20.0, 23.0]</td>\n",
       "      <td>2</td>\n",
       "    </tr>\n",
       "    <tr>\n",
       "      <th>3</th>\n",
       "      <td>4</td>\n",
       "      <td>1</td>\n",
       "      <td>1</td>\n",
       "      <td>Futrelle, Mrs. Jacques Heath (Lily May Peel)</td>\n",
       "      <td>female</td>\n",
       "      <td>35.0</td>\n",
       "      <td>1</td>\n",
       "      <td>0</td>\n",
       "      <td>113803</td>\n",
       "      <td>53.1000</td>\n",
       "      <td>...</td>\n",
       "      <td>2</td>\n",
       "      <td>Small</td>\n",
       "      <td>(32.312, 38.0]</td>\n",
       "      <td>5</td>\n",
       "      <td>(52.369, 512.329]</td>\n",
       "      <td>5</td>\n",
       "      <td>Mrs</td>\n",
       "      <td>44</td>\n",
       "      <td>(38.0, 82.0]</td>\n",
       "      <td>7</td>\n",
       "    </tr>\n",
       "    <tr>\n",
       "      <th>4</th>\n",
       "      <td>5</td>\n",
       "      <td>0</td>\n",
       "      <td>3</td>\n",
       "      <td>Allen, Mr. William Henry</td>\n",
       "      <td>male</td>\n",
       "      <td>35.0</td>\n",
       "      <td>0</td>\n",
       "      <td>0</td>\n",
       "      <td>373450</td>\n",
       "      <td>8.0500</td>\n",
       "      <td>...</td>\n",
       "      <td>1</td>\n",
       "      <td>Alone</td>\n",
       "      <td>(32.312, 38.0]</td>\n",
       "      <td>5</td>\n",
       "      <td>(7.775, 8.662]</td>\n",
       "      <td>1</td>\n",
       "      <td>Mr</td>\n",
       "      <td>24</td>\n",
       "      <td>(23.0, 25.0]</td>\n",
       "      <td>3</td>\n",
       "    </tr>\n",
       "  </tbody>\n",
       "</table>\n",
       "<p>5 rows × 22 columns</p>\n",
       "</div>"
      ],
      "text/plain": [
       "   PassengerId  Survived  Pclass  \\\n",
       "0            1         0       3   \n",
       "1            2         1       1   \n",
       "2            3         1       3   \n",
       "3            4         1       1   \n",
       "4            5         0       3   \n",
       "\n",
       "                                                Name     Sex   Age  SibSp  \\\n",
       "0                            Braund, Mr. Owen Harris    male  22.0      1   \n",
       "1  Cumings, Mrs. John Bradley (Florence Briggs Th...  female  38.0      1   \n",
       "2                             Heikkinen, Miss. Laina  female  26.0      0   \n",
       "3       Futrelle, Mrs. Jacques Heath (Lily May Peel)  female  35.0      1   \n",
       "4                           Allen, Mr. William Henry    male  35.0      0   \n",
       "\n",
       "   Parch            Ticket     Fare  ... Family_Size Family_Size_Grouped  \\\n",
       "0      0         A/5 21171   7.2500  ...           2               Small   \n",
       "1      0          PC 17599  71.2833  ...           2               Small   \n",
       "2      0  STON/O2. 3101282   7.9250  ...           1               Alone   \n",
       "3      0            113803  53.1000  ...           2               Small   \n",
       "4      0            373450   8.0500  ...           1               Alone   \n",
       "\n",
       "          Age_Cut Age_group           Fare_Cut  Fare_group Title  Name_Length  \\\n",
       "0  (20.125, 24.0]         2    (-0.001, 7.775]           0    Mr           23   \n",
       "1  (32.312, 38.0]         5  (52.369, 512.329]           5   Mrs           51   \n",
       "2    (24.0, 28.0]         3     (7.775, 8.662]           1  Miss           22   \n",
       "3  (32.312, 38.0]         5  (52.369, 512.329]           5   Mrs           44   \n",
       "4  (32.312, 38.0]         5     (7.775, 8.662]           1    Mr           24   \n",
       "\n",
       "  Name_LengthGB  Name_LengthGB_group  \n",
       "0  (20.0, 23.0]                    2  \n",
       "1  (38.0, 82.0]                    7  \n",
       "2  (20.0, 23.0]                    2  \n",
       "3  (38.0, 82.0]                    7  \n",
       "4  (23.0, 25.0]                    3  \n",
       "\n",
       "[5 rows x 22 columns]"
      ]
     },
     "execution_count": 40,
     "metadata": {},
     "output_type": "execute_result"
    }
   ],
   "source": [
    "train_df.head()"
   ]
  },
  {
   "cell_type": "code",
   "execution_count": 41,
   "id": "2f7bad0e",
   "metadata": {
    "execution": {
     "iopub.execute_input": "2025-03-17T21:49:14.607544Z",
     "iopub.status.busy": "2025-03-17T21:49:14.607217Z",
     "iopub.status.idle": "2025-03-17T21:49:14.613269Z",
     "shell.execute_reply": "2025-03-17T21:49:14.612434Z"
    },
    "papermill": {
     "duration": 0.019017,
     "end_time": "2025-03-17T21:49:14.614504",
     "exception": false,
     "start_time": "2025-03-17T21:49:14.595487",
     "status": "completed"
    },
    "tags": []
   },
   "outputs": [
    {
     "data": {
      "text/plain": [
       "0             A/5 21171\n",
       "1              PC 17599\n",
       "2      STON/O2. 3101282\n",
       "3                113803\n",
       "4                373450\n",
       "             ...       \n",
       "886              211536\n",
       "887              112053\n",
       "888          W./C. 6607\n",
       "889              111369\n",
       "890              370376\n",
       "Name: Ticket, Length: 891, dtype: object"
      ]
     },
     "execution_count": 41,
     "metadata": {},
     "output_type": "execute_result"
    }
   ],
   "source": [
    "train_df['Ticket']"
   ]
  },
  {
   "cell_type": "code",
   "execution_count": 42,
   "id": "daf4e9c9",
   "metadata": {
    "execution": {
     "iopub.execute_input": "2025-03-17T21:49:14.638567Z",
     "iopub.status.busy": "2025-03-17T21:49:14.638193Z",
     "iopub.status.idle": "2025-03-17T21:49:14.818925Z",
     "shell.execute_reply": "2025-03-17T21:49:14.817493Z"
    },
    "papermill": {
     "duration": 0.195356,
     "end_time": "2025-03-17T21:49:14.820944",
     "exception": false,
     "start_time": "2025-03-17T21:49:14.625588",
     "status": "completed"
    },
    "tags": []
   },
   "outputs": [],
   "source": [
    "train_df['Ticket_Number'] = train_df['Ticket'].apply(lambda x: pd.Series({'Ticket': x.split()[-1]})) \n",
    "test_df['Ticket_Number'] = test_df['Ticket'].apply(lambda x: pd.Series({'Ticket': x.split()[-1]})) "
   ]
  },
  {
   "cell_type": "code",
   "execution_count": 43,
   "id": "6cb3bc8c",
   "metadata": {
    "execution": {
     "iopub.execute_input": "2025-03-17T21:49:14.844376Z",
     "iopub.status.busy": "2025-03-17T21:49:14.843962Z",
     "iopub.status.idle": "2025-03-17T21:49:14.858217Z",
     "shell.execute_reply": "2025-03-17T21:49:14.857130Z"
    },
    "papermill": {
     "duration": 0.027658,
     "end_time": "2025-03-17T21:49:14.859873",
     "exception": false,
     "start_time": "2025-03-17T21:49:14.832215",
     "status": "completed"
    },
    "tags": []
   },
   "outputs": [
    {
     "data": {
      "text/html": [
       "<div>\n",
       "<style scoped>\n",
       "    .dataframe tbody tr th:only-of-type {\n",
       "        vertical-align: middle;\n",
       "    }\n",
       "\n",
       "    .dataframe tbody tr th {\n",
       "        vertical-align: top;\n",
       "    }\n",
       "\n",
       "    .dataframe thead th {\n",
       "        text-align: right;\n",
       "    }\n",
       "</style>\n",
       "<table border=\"1\" class=\"dataframe\">\n",
       "  <thead>\n",
       "    <tr style=\"text-align: right;\">\n",
       "      <th></th>\n",
       "      <th>Ticket_Number</th>\n",
       "      <th>count</th>\n",
       "      <th>mean</th>\n",
       "    </tr>\n",
       "  </thead>\n",
       "  <tbody>\n",
       "    <tr>\n",
       "      <th>464</th>\n",
       "      <td>347082</td>\n",
       "      <td>7</td>\n",
       "      <td>0.000000</td>\n",
       "    </tr>\n",
       "    <tr>\n",
       "      <th>196</th>\n",
       "      <td>2343</td>\n",
       "      <td>7</td>\n",
       "      <td>0.000000</td>\n",
       "    </tr>\n",
       "    <tr>\n",
       "      <th>94</th>\n",
       "      <td>1601</td>\n",
       "      <td>7</td>\n",
       "      <td>0.714286</td>\n",
       "    </tr>\n",
       "    <tr>\n",
       "      <th>168</th>\n",
       "      <td>2144</td>\n",
       "      <td>6</td>\n",
       "      <td>0.000000</td>\n",
       "    </tr>\n",
       "    <tr>\n",
       "      <th>468</th>\n",
       "      <td>347088</td>\n",
       "      <td>6</td>\n",
       "      <td>0.000000</td>\n",
       "    </tr>\n",
       "    <tr>\n",
       "      <th>...</th>\n",
       "      <td>...</td>\n",
       "      <td>...</td>\n",
       "      <td>...</td>\n",
       "    </tr>\n",
       "    <tr>\n",
       "      <th>271</th>\n",
       "      <td>2662</td>\n",
       "      <td>1</td>\n",
       "      <td>0.000000</td>\n",
       "    </tr>\n",
       "    <tr>\n",
       "      <th>272</th>\n",
       "      <td>2663</td>\n",
       "      <td>1</td>\n",
       "      <td>1.000000</td>\n",
       "    </tr>\n",
       "    <tr>\n",
       "      <th>273</th>\n",
       "      <td>2664</td>\n",
       "      <td>1</td>\n",
       "      <td>0.000000</td>\n",
       "    </tr>\n",
       "    <tr>\n",
       "      <th>276</th>\n",
       "      <td>2667</td>\n",
       "      <td>1</td>\n",
       "      <td>1.000000</td>\n",
       "    </tr>\n",
       "    <tr>\n",
       "      <th>339</th>\n",
       "      <td>3101274</td>\n",
       "      <td>1</td>\n",
       "      <td>0.000000</td>\n",
       "    </tr>\n",
       "  </tbody>\n",
       "</table>\n",
       "<p>679 rows × 3 columns</p>\n",
       "</div>"
      ],
      "text/plain": [
       "    Ticket_Number  count      mean\n",
       "464        347082      7  0.000000\n",
       "196          2343      7  0.000000\n",
       "94           1601      7  0.714286\n",
       "168          2144      6  0.000000\n",
       "468        347088      6  0.000000\n",
       "..            ...    ...       ...\n",
       "271          2662      1  0.000000\n",
       "272          2663      1  1.000000\n",
       "273          2664      1  0.000000\n",
       "276          2667      1  1.000000\n",
       "339       3101274      1  0.000000\n",
       "\n",
       "[679 rows x 3 columns]"
      ]
     },
     "execution_count": 43,
     "metadata": {},
     "output_type": "execute_result"
    }
   ],
   "source": [
    "train_df.groupby(['Ticket_Number'], as_index=False)['Survived'].agg(['count', 'mean']).sort_values('count', ascending=False)"
   ]
  },
  {
   "cell_type": "code",
   "execution_count": 44,
   "id": "c09f4da4",
   "metadata": {
    "execution": {
     "iopub.execute_input": "2025-03-17T21:49:14.882871Z",
     "iopub.status.busy": "2025-03-17T21:49:14.882501Z",
     "iopub.status.idle": "2025-03-17T21:49:14.891290Z",
     "shell.execute_reply": "2025-03-17T21:49:14.890468Z"
    },
    "papermill": {
     "duration": 0.021995,
     "end_time": "2025-03-17T21:49:14.892701",
     "exception": false,
     "start_time": "2025-03-17T21:49:14.870706",
     "status": "completed"
    },
    "tags": []
   },
   "outputs": [
    {
     "data": {
      "text/plain": [
       "0      1\n",
       "1      1\n",
       "2      1\n",
       "3      2\n",
       "4      1\n",
       "      ..\n",
       "886    1\n",
       "887    1\n",
       "888    2\n",
       "889    1\n",
       "890    1\n",
       "Name: Ticket_Number, Length: 891, dtype: int64"
      ]
     },
     "execution_count": 44,
     "metadata": {},
     "output_type": "execute_result"
    }
   ],
   "source": [
    "train_df.groupby('Ticket_Number')['Ticket_Number'].transform('count')"
   ]
  },
  {
   "cell_type": "code",
   "execution_count": 45,
   "id": "71dddef8",
   "metadata": {
    "execution": {
     "iopub.execute_input": "2025-03-17T21:49:14.917903Z",
     "iopub.status.busy": "2025-03-17T21:49:14.917544Z",
     "iopub.status.idle": "2025-03-17T21:49:14.925737Z",
     "shell.execute_reply": "2025-03-17T21:49:14.924813Z"
    },
    "papermill": {
     "duration": 0.023077,
     "end_time": "2025-03-17T21:49:14.927434",
     "exception": false,
     "start_time": "2025-03-17T21:49:14.904357",
     "status": "completed"
    },
    "tags": []
   },
   "outputs": [],
   "source": [
    "train_df['Ticket_Number_Counts'] = train_df.groupby('Ticket_Number')['Ticket_Number'].transform('count')\n",
    "test_df['Ticket_Number_Counts'] = test_df.groupby('Ticket_Number')['Ticket_Number'].transform('count')"
   ]
  },
  {
   "cell_type": "code",
   "execution_count": 46,
   "id": "eb48f6a5",
   "metadata": {
    "execution": {
     "iopub.execute_input": "2025-03-17T21:49:14.965567Z",
     "iopub.status.busy": "2025-03-17T21:49:14.965178Z",
     "iopub.status.idle": "2025-03-17T21:49:14.979687Z",
     "shell.execute_reply": "2025-03-17T21:49:14.978504Z"
    },
    "papermill": {
     "duration": 0.036064,
     "end_time": "2025-03-17T21:49:14.981883",
     "exception": false,
     "start_time": "2025-03-17T21:49:14.945819",
     "status": "completed"
    },
    "tags": []
   },
   "outputs": [
    {
     "data": {
      "text/html": [
       "<div>\n",
       "<style scoped>\n",
       "    .dataframe tbody tr th:only-of-type {\n",
       "        vertical-align: middle;\n",
       "    }\n",
       "\n",
       "    .dataframe tbody tr th {\n",
       "        vertical-align: top;\n",
       "    }\n",
       "\n",
       "    .dataframe thead th {\n",
       "        text-align: right;\n",
       "    }\n",
       "</style>\n",
       "<table border=\"1\" class=\"dataframe\">\n",
       "  <thead>\n",
       "    <tr style=\"text-align: right;\">\n",
       "      <th></th>\n",
       "      <th>Ticket_Number_Counts</th>\n",
       "      <th>count</th>\n",
       "      <th>mean</th>\n",
       "    </tr>\n",
       "  </thead>\n",
       "  <tbody>\n",
       "    <tr>\n",
       "      <th>0</th>\n",
       "      <td>1</td>\n",
       "      <td>544</td>\n",
       "      <td>0.295956</td>\n",
       "    </tr>\n",
       "    <tr>\n",
       "      <th>1</th>\n",
       "      <td>2</td>\n",
       "      <td>188</td>\n",
       "      <td>0.569149</td>\n",
       "    </tr>\n",
       "    <tr>\n",
       "      <th>2</th>\n",
       "      <td>3</td>\n",
       "      <td>66</td>\n",
       "      <td>0.712121</td>\n",
       "    </tr>\n",
       "    <tr>\n",
       "      <th>3</th>\n",
       "      <td>4</td>\n",
       "      <td>44</td>\n",
       "      <td>0.500000</td>\n",
       "    </tr>\n",
       "    <tr>\n",
       "      <th>6</th>\n",
       "      <td>7</td>\n",
       "      <td>21</td>\n",
       "      <td>0.238095</td>\n",
       "    </tr>\n",
       "    <tr>\n",
       "      <th>5</th>\n",
       "      <td>6</td>\n",
       "      <td>18</td>\n",
       "      <td>0.000000</td>\n",
       "    </tr>\n",
       "    <tr>\n",
       "      <th>4</th>\n",
       "      <td>5</td>\n",
       "      <td>10</td>\n",
       "      <td>0.000000</td>\n",
       "    </tr>\n",
       "  </tbody>\n",
       "</table>\n",
       "</div>"
      ],
      "text/plain": [
       "   Ticket_Number_Counts  count      mean\n",
       "0                     1    544  0.295956\n",
       "1                     2    188  0.569149\n",
       "2                     3     66  0.712121\n",
       "3                     4     44  0.500000\n",
       "6                     7     21  0.238095\n",
       "5                     6     18  0.000000\n",
       "4                     5     10  0.000000"
      ]
     },
     "execution_count": 46,
     "metadata": {},
     "output_type": "execute_result"
    }
   ],
   "source": [
    "train_df.groupby(['Ticket_Number_Counts'], as_index=False)['Survived'].agg(['count', 'mean']).sort_values('count', ascending=False)"
   ]
  },
  {
   "cell_type": "code",
   "execution_count": null,
   "id": "285fdb12",
   "metadata": {
    "papermill": {
     "duration": 0.01814,
     "end_time": "2025-03-17T21:49:15.018534",
     "exception": false,
     "start_time": "2025-03-17T21:49:15.000394",
     "status": "completed"
    },
    "tags": []
   },
   "outputs": [],
   "source": []
  },
  {
   "cell_type": "code",
   "execution_count": null,
   "id": "45d0b5bd",
   "metadata": {
    "papermill": {
     "duration": 0.011171,
     "end_time": "2025-03-17T21:49:15.044217",
     "exception": false,
     "start_time": "2025-03-17T21:49:15.033046",
     "status": "completed"
    },
    "tags": []
   },
   "outputs": [],
   "source": []
  },
  {
   "cell_type": "code",
   "execution_count": null,
   "id": "30e2542e",
   "metadata": {
    "papermill": {
     "duration": 0.015511,
     "end_time": "2025-03-17T21:49:15.076441",
     "exception": false,
     "start_time": "2025-03-17T21:49:15.060930",
     "status": "completed"
    },
    "tags": []
   },
   "outputs": [],
   "source": []
  }
 ],
 "metadata": {
  "kaggle": {
   "accelerator": "none",
   "dataSources": [
    {
     "databundleVersionId": 26502,
     "sourceId": 3136,
     "sourceType": "competition"
    }
   ],
   "dockerImageVersionId": 30918,
   "isGpuEnabled": false,
   "isInternetEnabled": false,
   "language": "python",
   "sourceType": "notebook"
  },
  "kernelspec": {
   "display_name": "Python 3",
   "language": "python",
   "name": "python3"
  },
  "language_info": {
   "codemirror_mode": {
    "name": "ipython",
    "version": 3
   },
   "file_extension": ".py",
   "mimetype": "text/x-python",
   "name": "python",
   "nbconvert_exporter": "python",
   "pygments_lexer": "ipython3",
   "version": "3.10.12"
  },
  "papermill": {
   "default_parameters": {},
   "duration": 9.45956,
   "end_time": "2025-03-17T21:49:15.814409",
   "environment_variables": {},
   "exception": null,
   "input_path": "__notebook__.ipynb",
   "output_path": "__notebook__.ipynb",
   "parameters": {},
   "start_time": "2025-03-17T21:49:06.354849",
   "version": "2.6.0"
  }
 },
 "nbformat": 4,
 "nbformat_minor": 5
}
